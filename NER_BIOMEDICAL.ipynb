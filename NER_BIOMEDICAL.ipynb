{
  "metadata": {
    "kernelspec": {
      "name": "python3",
      "display_name": "Python 3",
      "language": "python"
    },
    "language_info": {
      "name": "python",
      "version": "3.7.12",
      "mimetype": "text/x-python",
      "codemirror_mode": {
        "name": "ipython",
        "version": 3
      },
      "pygments_lexer": "ipython3",
      "nbconvert_exporter": "python",
      "file_extension": ".py"
    },
    "papermill": {
      "default_parameters": {},
      "duration": 799.141403,
      "end_time": "2021-09-05T11:22:26.640778",
      "environment_variables": {},
      "exception": null,
      "input_path": "__notebook__.ipynb",
      "output_path": "__notebook__.ipynb",
      "parameters": {},
      "start_time": "2021-09-05T11:09:07.499375",
      "version": "2.3.3"
    },
    "vscode": {
      "interpreter": {
        "hash": "486e0d5a79acdbfffd563ee7a67a93a5017bd2a4f66495483a69f0245c8a4a6c"
      }
    },
    "colab": {
      "provenance": [],
      "collapsed_sections": [
        "4b0d1a83",
        "e7ffa3d7",
        "aa972db5",
        "3ef22ca2"
      ]
    },
    "accelerator": "GPU",
    "gpuClass": "standard"
  },
  "nbformat_minor": 5,
  "nbformat": 4,
  "cells": [
    {
      "cell_type": "code",
      "source": [
        "!pip install pycrf\n",
        "!pip install sklearn-crfsuite"
      ],
      "metadata": {
        "papermill": {
          "duration": 21.4057,
          "end_time": "2021-09-05T11:09:38.170716",
          "exception": false,
          "start_time": "2021-09-05T11:09:16.765016",
          "status": "completed"
        },
        "tags": [],
        "colab": {
          "base_uri": "https://localhost:8080/"
        },
        "id": "28b4c6a9",
        "outputId": "12d240dc-8eb9-45a5-afce-0adcc45f585c",
        "execution": {
          "iopub.status.busy": "2022-11-25T17:34:48.656685Z",
          "iopub.execute_input": "2022-11-25T17:34:48.657433Z",
          "iopub.status.idle": "2022-11-25T17:35:14.981742Z",
          "shell.execute_reply.started": "2022-11-25T17:34:48.657345Z",
          "shell.execute_reply": "2022-11-25T17:35:14.980480Z"
        },
        "trusted": true
      },
      "execution_count": null,
      "outputs": [
        {
          "name": "stdout",
          "text": "Collecting pycrf\n  Downloading pycrf-0.0.1.tar.gz (1.1 kB)\n  Preparing metadata (setup.py) ... \u001b[?25ldone\n\u001b[?25hBuilding wheels for collected packages: pycrf\n  Building wheel for pycrf (setup.py) ... \u001b[?25ldone\n\u001b[?25h  Created wheel for pycrf: filename=pycrf-0.0.1-py3-none-any.whl size=1897 sha256=44df2b055a0cfce147697e4878ffeb62581249df3718232b2f3a4f372d2279a2\n  Stored in directory: /root/.cache/pip/wheels/0b/68/37/a457e156cfd6174ed28c9c8cb76f18eeb559b760d84c0a22eb\nSuccessfully built pycrf\nInstalling collected packages: pycrf\nSuccessfully installed pycrf-0.0.1\n\u001b[33mWARNING: Running pip as the 'root' user can result in broken permissions and conflicting behaviour with the system package manager. It is recommended to use a virtual environment instead: https://pip.pypa.io/warnings/venv\u001b[0m\u001b[33m\n\u001b[0mCollecting sklearn-crfsuite\n  Downloading sklearn_crfsuite-0.3.6-py2.py3-none-any.whl (12 kB)\nCollecting python-crfsuite>=0.8.3\n  Downloading python_crfsuite-0.9.8-cp37-cp37m-manylinux_2_17_x86_64.manylinux2014_x86_64.whl (965 kB)\n\u001b[2K     \u001b[90m━━━━━━━━━━━━━━━━━━━━━━━━━━━━━━━━━━━━━━━\u001b[0m \u001b[32m965.4/965.4 kB\u001b[0m \u001b[31m6.9 MB/s\u001b[0m eta \u001b[36m0:00:00\u001b[0ma \u001b[36m0:00:01\u001b[0m\n\u001b[?25hRequirement already satisfied: six in /opt/conda/lib/python3.7/site-packages (from sklearn-crfsuite) (1.15.0)\nRequirement already satisfied: tqdm>=2.0 in /opt/conda/lib/python3.7/site-packages (from sklearn-crfsuite) (4.64.0)\nRequirement already satisfied: tabulate in /opt/conda/lib/python3.7/site-packages (from sklearn-crfsuite) (0.9.0)\nInstalling collected packages: python-crfsuite, sklearn-crfsuite\nSuccessfully installed python-crfsuite-0.9.8 sklearn-crfsuite-0.3.6\n\u001b[33mWARNING: Running pip as the 'root' user can result in broken permissions and conflicting behaviour with the system package manager. It is recommended to use a virtual environment instead: https://pip.pypa.io/warnings/venv\u001b[0m\u001b[33m\n\u001b[0m",
          "output_type": "stream"
        }
      ],
      "id": "28b4c6a9"
    },
    {
      "cell_type": "code",
      "source": [
        "!pip install -U 'scikit-learn<0.24'"
      ],
      "metadata": {
        "colab": {
          "base_uri": "https://localhost:8080/"
        },
        "id": "hFu0kM1FMlo_",
        "outputId": "fa55660d-188f-406e-c6a5-40237008a652",
        "execution": {
          "iopub.status.busy": "2022-11-25T17:35:14.984610Z",
          "iopub.execute_input": "2022-11-25T17:35:14.986393Z",
          "iopub.status.idle": "2022-11-25T17:35:30.134668Z",
          "shell.execute_reply.started": "2022-11-25T17:35:14.986350Z",
          "shell.execute_reply": "2022-11-25T17:35:30.133452Z"
        },
        "trusted": true
      },
      "execution_count": null,
      "outputs": [
        {
          "name": "stdout",
          "text": "Collecting scikit-learn<0.24\n  Downloading scikit_learn-0.23.2-cp37-cp37m-manylinux1_x86_64.whl (6.8 MB)\n\u001b[2K     \u001b[90m━━━━━━━━━━━━━━━━━━━━━━━━━━━━━━━━━━━━━━━━\u001b[0m \u001b[32m6.8/6.8 MB\u001b[0m \u001b[31m27.1 MB/s\u001b[0m eta \u001b[36m0:00:00\u001b[0m00:01\u001b[0m00:01\u001b[0m\n\u001b[?25hRequirement already satisfied: joblib>=0.11 in /opt/conda/lib/python3.7/site-packages (from scikit-learn<0.24) (1.0.1)\nRequirement already satisfied: scipy>=0.19.1 in /opt/conda/lib/python3.7/site-packages (from scikit-learn<0.24) (1.7.3)\nRequirement already satisfied: threadpoolctl>=2.0.0 in /opt/conda/lib/python3.7/site-packages (from scikit-learn<0.24) (3.1.0)\nRequirement already satisfied: numpy>=1.13.3 in /opt/conda/lib/python3.7/site-packages (from scikit-learn<0.24) (1.21.6)\nInstalling collected packages: scikit-learn\n  Attempting uninstall: scikit-learn\n    Found existing installation: scikit-learn 1.0.2\n    Uninstalling scikit-learn-1.0.2:\n      Successfully uninstalled scikit-learn-1.0.2\n\u001b[31mERROR: pip's dependency resolver does not currently take into account all the packages that are installed. This behaviour is the source of the following dependency conflicts.\nyellowbrick 1.5 requires scikit-learn>=1.0.0, but you have scikit-learn 0.23.2 which is incompatible.\npdpbox 0.2.1 requires matplotlib==3.1.1, but you have matplotlib 3.5.3 which is incompatible.\nmlxtend 0.21.0 requires scikit-learn>=1.0.2, but you have scikit-learn 0.23.2 which is incompatible.\nimbalanced-learn 0.9.0 requires scikit-learn>=1.0.1, but you have scikit-learn 0.23.2 which is incompatible.\nhypertools 0.8.0 requires scikit-learn>=0.24, but you have scikit-learn 0.23.2 which is incompatible.\ngplearn 0.4.2 requires scikit-learn>=1.0.2, but you have scikit-learn 0.23.2 which is incompatible.\nallennlp 2.10.1 requires scikit-learn>=1.0.1, but you have scikit-learn 0.23.2 which is incompatible.\u001b[0m\u001b[31m\n\u001b[0mSuccessfully installed scikit-learn-0.23.2\n\u001b[33mWARNING: Running pip as the 'root' user can result in broken permissions and conflicting behaviour with the system package manager. It is recommended to use a virtual environment instead: https://pip.pypa.io/warnings/venv\u001b[0m\u001b[33m\n\u001b[0m",
          "output_type": "stream"
        }
      ],
      "id": "hFu0kM1FMlo_"
    },
    {
      "cell_type": "code",
      "source": [
        "# Library Import\n",
        "import pandas as pd\n",
        "import re\n",
        "import spacy\n",
        "import warnings\n",
        "warnings.filterwarnings('ignore')\n",
        "\n",
        "# Import model and metrics\n",
        "from sklearn_crfsuite import CRF, scorers, metrics"
      ],
      "metadata": {
        "papermill": {
          "duration": 1.752874,
          "end_time": "2021-09-05T11:09:39.977504",
          "exception": false,
          "start_time": "2021-09-05T11:09:38.224630",
          "status": "completed"
        },
        "tags": [],
        "id": "d77f30fa",
        "execution": {
          "iopub.status.busy": "2022-11-25T17:35:30.137060Z",
          "iopub.execute_input": "2022-11-25T17:35:30.137788Z",
          "iopub.status.idle": "2022-11-25T17:35:50.045332Z",
          "shell.execute_reply.started": "2022-11-25T17:35:30.137728Z",
          "shell.execute_reply": "2022-11-25T17:35:50.044309Z"
        },
        "trusted": true
      },
      "execution_count": null,
      "outputs": [],
      "id": "d77f30fa"
    },
    {
      "cell_type": "markdown",
      "source": [
        "### Preprocessing Functions"
      ],
      "metadata": {
        "papermill": {
          "duration": 0.052533,
          "end_time": "2021-09-05T11:09:40.188751",
          "exception": false,
          "start_time": "2021-09-05T11:09:40.136218",
          "status": "completed"
        },
        "tags": [],
        "id": "1d975267"
      },
      "id": "1d975267"
    },
    {
      "cell_type": "code",
      "source": [
        "# Extract sentence from words\n",
        "def content_extract(file_path='',sep='\\t'):\n",
        "    '''It helps to extract the word based on the separator to form the sentence'''\n",
        "    try:\n",
        "        with open (file_path,'r',encoding='utf-8') as text:\n",
        "            if text.mode  == 'r':\n",
        "                content = text.readlines()\n",
        "        sentence = []\n",
        "        final_sentence=''\n",
        "        for c in content:\n",
        "            content_word = c.strip('\\n')\n",
        "            if content_word == '':\n",
        "                #Once it get matched with separator, it appends previous extracted concatenated string as sentence\n",
        "#                 final_sentence = re.sub('(?<=[\\(]) | (?=[%\\',)])','', final_sentence)\n",
        "                sentence.append(final_sentence.strip(' '))\n",
        "\n",
        "                #Initialize for next sentence\n",
        "                final_sentence=''\n",
        "            else:\n",
        "                # Till the loop identifies the separator it concatenates string\n",
        "                final_sentence+=content_word+' '\n",
        "        print('Total identified value: ',len(sentence),'\\n')\n",
        "        print('Sample display value:\\n',sentence[:5])\n",
        "        return sentence\n",
        "    except FileNotFoundError:\n",
        "        print('Check and provide proper file path')"
      ],
      "metadata": {
        "papermill": {
          "duration": 0.080087,
          "end_time": "2021-09-05T11:09:40.327420",
          "exception": false,
          "start_time": "2021-09-05T11:09:40.247333",
          "status": "completed"
        },
        "tags": [],
        "id": "1ac2b72e",
        "execution": {
          "iopub.status.busy": "2022-11-25T17:35:52.575385Z",
          "iopub.execute_input": "2022-11-25T17:35:52.576193Z",
          "iopub.status.idle": "2022-11-25T17:35:52.587031Z",
          "shell.execute_reply.started": "2022-11-25T17:35:52.576153Z",
          "shell.execute_reply": "2022-11-25T17:35:52.585612Z"
        },
        "trusted": true
      },
      "execution_count": null,
      "outputs": [],
      "id": "1ac2b72e"
    },
    {
      "cell_type": "markdown",
      "source": [
        "### Post-processing functions"
      ],
      "metadata": {
        "papermill": {
          "duration": 0.053463,
          "end_time": "2021-09-05T11:09:40.441074",
          "exception": false,
          "start_time": "2021-09-05T11:09:40.387611",
          "status": "completed"
        },
        "tags": [],
        "id": "d6012c41"
      },
      "id": "d6012c41"
    },
    {
      "cell_type": "code",
      "source": [
        "# A class to retrieve the sentences details from the dataframe\n",
        "class sentencedetail(object):\n",
        "    def __init__(self, data):\n",
        "        self.data = data\n",
        "        self.empty = False\n",
        "        agg_func = lambda s: [(w, p, l) for w, p, l in zip(s[\"word\"].values.tolist(), s[\"pos\"].values.tolist(),s[\"label\"].values.tolist())]\n",
        "        self.grouped = self.data.groupby(\"sentence\").apply(agg_func)\n",
        "        self.sentences = [s for s in self.grouped]"
      ],
      "metadata": {
        "papermill": {
          "duration": 0.063421,
          "end_time": "2021-09-05T11:09:40.557579",
          "exception": false,
          "start_time": "2021-09-05T11:09:40.494158",
          "status": "completed"
        },
        "tags": [],
        "id": "c810070a",
        "execution": {
          "iopub.status.busy": "2022-11-25T17:35:54.426861Z",
          "iopub.execute_input": "2022-11-25T17:35:54.427548Z",
          "iopub.status.idle": "2022-11-25T17:35:54.434528Z",
          "shell.execute_reply.started": "2022-11-25T17:35:54.427511Z",
          "shell.execute_reply": "2022-11-25T17:35:54.433357Z"
        },
        "trusted": true
      },
      "execution_count": null,
      "outputs": [],
      "id": "c810070a"
    },
    {
      "cell_type": "markdown",
      "source": [
        "### Feature Extraction"
      ],
      "metadata": {
        "papermill": {
          "duration": 0.052309,
          "end_time": "2021-09-05T11:09:40.662659",
          "exception": false,
          "start_time": "2021-09-05T11:09:40.610350",
          "status": "completed"
        },
        "tags": [],
        "id": "5ca87168"
      },
      "id": "5ca87168"
    },
    {
      "cell_type": "code",
      "source": [
        "# Feature set\n",
        "def word2features(sent, i):\n",
        "    word = sent[i][0]\n",
        "    postag = sent[i][1]\n",
        "\n",
        "    features = {\n",
        "        'bias': 1.0,\n",
        "        'word.lower()': word.lower(),\n",
        "        'word[0]': word[0],\n",
        "        'word[-1]': word[-1],\n",
        "        'word[-2:]': word[-2:],\n",
        "        'word.isupper()': word.isupper(),\n",
        "        'word.istitle()': word.istitle(),\n",
        "        'word.isdigit()': word.isdigit(),\n",
        "        'postag':postag,\n",
        "        'postag_isnounpronoun': postag in ['NOUN','PROPN'],\n",
        "        'postag[:2]': postag[:2],\n",
        "    }\n",
        "    if i > 0:\n",
        "        word1 = sent[i-1][0]\n",
        "        postag1 = sent[i-1][1]\n",
        "        features.update({\n",
        "            '-1:word.lower()': word1.lower(),\n",
        "            '-1:word[0]': word1[0],\n",
        "            '-1:word[-1]': word1[-1],\n",
        "            '-1:word.istitle()': word1.istitle(),\n",
        "            '-1:word.isupper()': word1.isupper(),\n",
        "            '-1:postag': postag1,\n",
        "            '-1:postag[:2]': postag1[:2],\n",
        "            '-1:postag_isnounpronoun': postag1 in ['NOUN','PROPN']\n",
        "        })\n",
        "    else:\n",
        "        features['BOS'] = True\n",
        "\n",
        "    if i < len(sent)-1:\n",
        "        word1 = sent[i+1][0]\n",
        "        postag1 = sent[i+1][1]\n",
        "        features.update({\n",
        "            '+1:word.lower()': word1.lower(),\n",
        "            '+1:word.istitle()': word1.istitle(),\n",
        "            '+1:word.isupper()': word1.isupper(),\n",
        "            '+1:postag': postag1,\n",
        "            '+1:postag[:2]': postag1[:2],\n",
        "            '+1:postag_isnounpronoun': postag1 in ['NOUN','PROPN']\n",
        "        })\n",
        "    else:\n",
        "        features['EOS'] = True\n",
        "\n",
        "    return features"
      ],
      "metadata": {
        "papermill": {
          "duration": 0.067711,
          "end_time": "2021-09-05T11:09:40.782743",
          "exception": false,
          "start_time": "2021-09-05T11:09:40.715032",
          "status": "completed"
        },
        "tags": [],
        "id": "b4fd5b44",
        "execution": {
          "iopub.status.busy": "2022-11-25T17:35:56.280166Z",
          "iopub.execute_input": "2022-11-25T17:35:56.280875Z",
          "iopub.status.idle": "2022-11-25T17:35:56.293427Z",
          "shell.execute_reply.started": "2022-11-25T17:35:56.280833Z",
          "shell.execute_reply": "2022-11-25T17:35:56.292127Z"
        },
        "trusted": true
      },
      "execution_count": null,
      "outputs": [],
      "id": "b4fd5b44"
    },
    {
      "cell_type": "code",
      "source": [
        "# Define a function to extract features for a sentence.\n",
        "def sent2features(sent):\n",
        "    return [word2features(sent, i) for i in range(len(sent))]"
      ],
      "metadata": {
        "papermill": {
          "duration": 0.060405,
          "end_time": "2021-09-05T11:09:40.897025",
          "exception": false,
          "start_time": "2021-09-05T11:09:40.836620",
          "status": "completed"
        },
        "tags": [],
        "id": "6d54863b",
        "execution": {
          "iopub.status.busy": "2022-11-25T17:35:57.234040Z",
          "iopub.execute_input": "2022-11-25T17:35:57.234420Z",
          "iopub.status.idle": "2022-11-25T17:35:57.240009Z",
          "shell.execute_reply.started": "2022-11-25T17:35:57.234389Z",
          "shell.execute_reply": "2022-11-25T17:35:57.238770Z"
        },
        "trusted": true
      },
      "execution_count": null,
      "outputs": [],
      "id": "6d54863b"
    },
    {
      "cell_type": "code",
      "source": [
        "# Define a function to get the labels for a sentence.\n",
        "def sent2labels(sent):\n",
        "    return [label for token, postag, label in sent]"
      ],
      "metadata": {
        "papermill": {
          "duration": 0.060193,
          "end_time": "2021-09-05T11:09:41.010339",
          "exception": false,
          "start_time": "2021-09-05T11:09:40.950146",
          "status": "completed"
        },
        "tags": [],
        "id": "9dd0bc1f",
        "execution": {
          "iopub.status.busy": "2022-11-25T17:35:57.966268Z",
          "iopub.execute_input": "2022-11-25T17:35:57.966855Z",
          "iopub.status.idle": "2022-11-25T17:35:57.973094Z",
          "shell.execute_reply.started": "2022-11-25T17:35:57.966804Z",
          "shell.execute_reply": "2022-11-25T17:35:57.972084Z"
        },
        "trusted": true
      },
      "execution_count": null,
      "outputs": [],
      "id": "9dd0bc1f"
    },
    {
      "cell_type": "markdown",
      "source": [
        "### Reading the data"
      ],
      "metadata": {
        "id": "Ro9BYlnAG7-U"
      },
      "id": "Ro9BYlnAG7-U"
    },
    {
      "cell_type": "code",
      "source": [
        "# Train sentence extraction from dataset\n",
        "train_sent = content_extract(file_path='/kaggle/input/medical-entity-recognition-ner/Dataset/train_sent',sep='\\n')"
      ],
      "metadata": {
        "papermill": {
          "duration": 0.125675,
          "end_time": "2021-09-05T11:09:41.938860",
          "exception": false,
          "start_time": "2021-09-05T11:09:41.813185",
          "status": "completed"
        },
        "tags": [],
        "colab": {
          "base_uri": "https://localhost:8080/"
        },
        "id": "aea08958",
        "outputId": "29accdaa-8fb0-48c2-f607-73c36a3eb3b0",
        "execution": {
          "iopub.status.busy": "2022-11-25T17:36:14.742427Z",
          "iopub.execute_input": "2022-11-25T17:36:14.742856Z",
          "iopub.status.idle": "2022-11-25T17:36:14.781929Z",
          "shell.execute_reply.started": "2022-11-25T17:36:14.742816Z",
          "shell.execute_reply": "2022-11-25T17:36:14.780638Z"
        },
        "trusted": true
      },
      "execution_count": null,
      "outputs": [
        {
          "name": "stdout",
          "text": "Total identified value:  2599 \n\nSample display value:\n ['All live births > or = 23 weeks at the University of Vermont in 1995 ( n = 2395 ) were retrospectively analyzed for delivery route , indication for cesarean , gestational age , parity , and practice group ( to reflect risk status )', 'The total cesarean rate was 14.4 % ( 344 of 2395 ) , and the primary rate was 11.4 % ( 244 of 2144 )', 'Abnormal presentation was the most common indication ( 25.6 % , 88 of 344 )', \"The `` corrected '' cesarean rate ( maternal-fetal medicine and transported patients excluded ) was 12.4 % ( 273 of 2194 ) , and the `` corrected '' primary rate was 9.6 % ( 190 of 1975 )\", \"Arrest of dilation was the most common indication in both `` corrected '' subgroups ( 23.4 and 24.6 % , respectively )\"]\n",
          "output_type": "stream"
        }
      ],
      "id": "aea08958"
    },
    {
      "cell_type": "code",
      "source": [
        "# Train label extraction from dataset\n",
        "train_label = content_extract(file_path='/kaggle/input/medical-entity-recognition-ner/Dataset/train_label',sep='\\n')"
      ],
      "metadata": {
        "papermill": {
          "duration": 0.098599,
          "end_time": "2021-09-05T11:09:42.092255",
          "exception": false,
          "start_time": "2021-09-05T11:09:41.993656",
          "status": "completed"
        },
        "tags": [],
        "colab": {
          "base_uri": "https://localhost:8080/"
        },
        "id": "727775d7",
        "outputId": "33f44b9a-2412-4a44-88c6-f60543afb43f",
        "execution": {
          "iopub.status.busy": "2022-11-25T17:36:19.910509Z",
          "iopub.execute_input": "2022-11-25T17:36:19.911035Z",
          "iopub.status.idle": "2022-11-25T17:36:19.954762Z",
          "shell.execute_reply.started": "2022-11-25T17:36:19.910991Z",
          "shell.execute_reply": "2022-11-25T17:36:19.953703Z"
        },
        "trusted": true
      },
      "execution_count": null,
      "outputs": [
        {
          "name": "stdout",
          "text": "Total identified value:  2599 \n\nSample display value:\n ['O O O O O O O O O O O O O O O O O O O O O O O O O O O O O O O O O O O O O O O O O O O O O', 'O O O O O O O O O O O O O O O O O O O O O O O O O', 'O O O O O O O O O O O O O O O', 'O O O O O O O O O O O O O O O O O O O O O O O O O O O O O O O O O O O O O O', 'O O O O O O O O O O O O O O O O O O O O O O']\n",
          "output_type": "stream"
        }
      ],
      "id": "727775d7"
    },
    {
      "cell_type": "code",
      "source": [
        "# Test sentence extraction from dataset\n",
        "test_sent = content_extract(file_path='/kaggle/input/medical-entity-recognition-ner/Dataset/test_sent',sep='\\n')"
      ],
      "metadata": {
        "papermill": {
          "duration": 0.097466,
          "end_time": "2021-09-05T11:09:42.244022",
          "exception": false,
          "start_time": "2021-09-05T11:09:42.146556",
          "status": "completed"
        },
        "tags": [],
        "colab": {
          "base_uri": "https://localhost:8080/"
        },
        "id": "56339e89",
        "outputId": "77c878bb-1cde-47b9-fb43-55afe8de1b38",
        "execution": {
          "iopub.status.busy": "2022-11-25T17:36:25.085993Z",
          "iopub.execute_input": "2022-11-25T17:36:25.086868Z",
          "iopub.status.idle": "2022-11-25T17:36:25.112364Z",
          "shell.execute_reply.started": "2022-11-25T17:36:25.086828Z",
          "shell.execute_reply": "2022-11-25T17:36:25.111133Z"
        },
        "trusted": true
      },
      "execution_count": null,
      "outputs": [
        {
          "name": "stdout",
          "text": "Total identified value:  1056 \n\nSample display value:\n ['Furthermore , when all deliveries were analyzed , regardless of risk status but limited to gestational age > or = 36 weeks , the rates did not change ( 12.6 % , 280 of 2214 ; primary 9.2 % , 183 of 1994 )', 'As the ambient temperature increases , there is an increase in insensible fluid loss and the potential for dehydration', 'The daily high temperature ranged from 71 to 104 degrees F and AFI values ranged from 1.7 to 24.7 cm during the study period', 'There was a significant correlation between the 2- , 3- , and 4-day mean temperature and AFI , with the 4-day mean being the most significant ( r = 0.31 , p & # 60 ; 0.001 )', 'Fluctuations in ambient temperature are inversely correlated to changes in AFI']\n",
          "output_type": "stream"
        }
      ],
      "id": "56339e89"
    },
    {
      "cell_type": "code",
      "source": [
        "# Test label extraction from dataset\n",
        "test_label = content_extract(file_path='/kaggle/input/medical-entity-recognition-ner/Dataset/test_label',sep='\\n')"
      ],
      "metadata": {
        "papermill": {
          "duration": 0.079743,
          "end_time": "2021-09-05T11:09:42.378759",
          "exception": false,
          "start_time": "2021-09-05T11:09:42.299016",
          "status": "completed"
        },
        "tags": [],
        "colab": {
          "base_uri": "https://localhost:8080/"
        },
        "id": "6cd8d7b6",
        "outputId": "c9cb8141-40eb-4353-ed9d-2008238c8541",
        "execution": {
          "iopub.status.busy": "2022-11-25T17:36:29.088748Z",
          "iopub.execute_input": "2022-11-25T17:36:29.089248Z",
          "iopub.status.idle": "2022-11-25T17:36:29.123078Z",
          "shell.execute_reply.started": "2022-11-25T17:36:29.089206Z",
          "shell.execute_reply": "2022-11-25T17:36:29.122134Z"
        },
        "trusted": true
      },
      "execution_count": null,
      "outputs": [
        {
          "name": "stdout",
          "text": "Total identified value:  1056 \n\nSample display value:\n ['O O O O O O O O O O O O O O O O O O O O O O O O O O O O O O O O O O O O O O O O O O O O', 'O O O O O O O O O O O O O O O O O O O', 'O O O O O O O O O O O O O O O O O O O O O O O O', 'O O O O O O O O O O O O O O O O O O O O O O O O O O O O O O O O O O O O O O', 'O O O O O O O O O O O']\n",
          "output_type": "stream"
        }
      ],
      "id": "6cd8d7b6"
    },
    {
      "cell_type": "markdown",
      "source": [
        "### Extract POS information using SpaCy"
      ],
      "metadata": {
        "papermill": {
          "duration": 0.054588,
          "end_time": "2021-09-05T11:09:42.488791",
          "exception": false,
          "start_time": "2021-09-05T11:09:42.434203",
          "status": "completed"
        },
        "tags": [],
        "id": "f5ca4f93"
      },
      "id": "f5ca4f93"
    },
    {
      "cell_type": "code",
      "source": [
        "# Import spacy small library to find medical related entities\n",
        "nlp= spacy.load(\"en_core_web_sm\")"
      ],
      "metadata": {
        "papermill": {
          "duration": 1.406949,
          "end_time": "2021-09-05T11:09:43.949749",
          "exception": false,
          "start_time": "2021-09-05T11:09:42.542800",
          "status": "completed"
        },
        "tags": [],
        "id": "2cae0c7a",
        "execution": {
          "iopub.status.busy": "2022-11-25T17:36:37.125604Z",
          "iopub.execute_input": "2022-11-25T17:36:37.126021Z",
          "iopub.status.idle": "2022-11-25T17:36:37.924359Z",
          "shell.execute_reply.started": "2022-11-25T17:36:37.125986Z",
          "shell.execute_reply": "2022-11-25T17:36:37.923215Z"
        },
        "trusted": true
      },
      "execution_count": null,
      "outputs": [],
      "id": "2cae0c7a"
    },
    {
      "cell_type": "code",
      "source": [
        "# Dataframe of POS tagging,Lemma word and Label for Train and test sentence\n",
        "train_df = pd.DataFrame(columns=['sentence','word','lemma','pos','label'])\n",
        "test_df = pd.DataFrame(columns=['sentence','word','lemma','pos','label'])"
      ],
      "metadata": {
        "papermill": {
          "duration": 0.072312,
          "end_time": "2021-09-05T11:09:44.076217",
          "exception": false,
          "start_time": "2021-09-05T11:09:44.003905",
          "status": "completed"
        },
        "tags": [],
        "id": "30c48ed4",
        "execution": {
          "iopub.status.busy": "2022-11-25T17:36:39.096514Z",
          "iopub.execute_input": "2022-11-25T17:36:39.096907Z",
          "iopub.status.idle": "2022-11-25T17:36:39.113755Z",
          "shell.execute_reply.started": "2022-11-25T17:36:39.096875Z",
          "shell.execute_reply": "2022-11-25T17:36:39.112625Z"
        },
        "trusted": true
      },
      "execution_count": null,
      "outputs": [],
      "id": "30c48ed4"
    },
    {
      "cell_type": "code",
      "source": [
        "#train datframe\n",
        "\n",
        "i=0 #Sentence count\n",
        "j=0 #Iteration count\n",
        "\n",
        "for sent,label in zip(train_sent,train_label):\n",
        "    i+=1\n",
        "    for s,l in zip(sent.split(),label.split()):\n",
        "        doc = nlp(s)\n",
        "        for tok in doc:\n",
        "            train_df.loc[j,['sentence','word','lemma','pos','label']] = [i,tok.text,tok.lemma_,tok.pos_,l]\n",
        "            j+=1"
      ],
      "metadata": {
        "papermill": {
          "duration": 556.1538,
          "end_time": "2021-09-05T11:19:00.285033",
          "exception": false,
          "start_time": "2021-09-05T11:09:44.131233",
          "status": "completed"
        },
        "tags": [],
        "id": "bbd0c71e",
        "execution": {
          "iopub.status.busy": "2022-11-25T17:36:40.118194Z",
          "iopub.execute_input": "2022-11-25T17:36:40.118949Z",
          "iopub.status.idle": "2022-11-25T17:43:13.253832Z",
          "shell.execute_reply.started": "2022-11-25T17:36:40.118908Z",
          "shell.execute_reply": "2022-11-25T17:43:13.252588Z"
        },
        "trusted": true
      },
      "execution_count": null,
      "outputs": [],
      "id": "bbd0c71e"
    },
    {
      "cell_type": "code",
      "source": [
        "#test datframe\n",
        "\n",
        "i=0 #Sentence count\n",
        "j=0 #Iteration count\n",
        "\n",
        "for sent,label in zip(test_sent,test_label):\n",
        "    i+=1\n",
        "    for s,l in zip(sent.split(),label.split()):\n",
        "        doc = nlp(s)\n",
        "        for tok in doc:\n",
        "            test_df.loc[j,['sentence','word','lemma','pos','label']] = [i,tok.text,tok.lemma_,tok.pos_,l]\n",
        "            j+=1"
      ],
      "metadata": {
        "papermill": {
          "duration": 183.301713,
          "end_time": "2021-09-05T11:22:03.641739",
          "exception": false,
          "start_time": "2021-09-05T11:19:00.340026",
          "status": "completed"
        },
        "tags": [],
        "id": "1813d34b",
        "execution": {
          "iopub.status.busy": "2022-11-25T17:43:13.256244Z",
          "iopub.execute_input": "2022-11-25T17:43:13.256640Z",
          "iopub.status.idle": "2022-11-25T17:45:26.090805Z",
          "shell.execute_reply.started": "2022-11-25T17:43:13.256602Z",
          "shell.execute_reply": "2022-11-25T17:45:26.089765Z"
        },
        "trusted": true
      },
      "execution_count": null,
      "outputs": [],
      "id": "1813d34b"
    },
    {
      "cell_type": "markdown",
      "source": [
        "### Frequence of words for POS tag as NOUN & PROPN"
      ],
      "metadata": {
        "papermill": {
          "duration": 0.055051,
          "end_time": "2021-09-05T11:22:03.752185",
          "exception": false,
          "start_time": "2021-09-05T11:22:03.697134",
          "status": "completed"
        },
        "tags": [],
        "id": "4b0d1a83"
      },
      "id": "4b0d1a83"
    },
    {
      "cell_type": "code",
      "source": [
        "# Word and it's frequency for word which contains NOUN or PROPN as POS tagging\n",
        "freq_df = pd.DataFrame()\n",
        "freq_df = pd.concat((train_df,test_df),axis=0)"
      ],
      "metadata": {
        "papermill": {
          "duration": 0.072502,
          "end_time": "2021-09-05T11:22:03.879957",
          "exception": false,
          "start_time": "2021-09-05T11:22:03.807455",
          "status": "completed"
        },
        "tags": [],
        "id": "d21de65f",
        "execution": {
          "iopub.status.busy": "2022-11-25T17:45:26.092605Z",
          "iopub.execute_input": "2022-11-25T17:45:26.092990Z",
          "iopub.status.idle": "2022-11-25T17:45:26.107313Z",
          "shell.execute_reply.started": "2022-11-25T17:45:26.092947Z",
          "shell.execute_reply": "2022-11-25T17:45:26.106364Z"
        },
        "trusted": true
      },
      "execution_count": null,
      "outputs": [],
      "id": "d21de65f"
    },
    {
      "cell_type": "code",
      "source": [
        "# Resetting index\n",
        "freq_df.reset_index(inplace=True,drop=True)"
      ],
      "metadata": {
        "papermill": {
          "duration": 0.06444,
          "end_time": "2021-09-05T11:22:04.001847",
          "exception": false,
          "start_time": "2021-09-05T11:22:03.937407",
          "status": "completed"
        },
        "tags": [],
        "id": "4ec38a31",
        "execution": {
          "iopub.status.busy": "2022-11-25T17:45:26.110880Z",
          "iopub.execute_input": "2022-11-25T17:45:26.111550Z",
          "iopub.status.idle": "2022-11-25T17:45:26.118132Z",
          "shell.execute_reply.started": "2022-11-25T17:45:26.111511Z",
          "shell.execute_reply": "2022-11-25T17:45:26.117258Z"
        },
        "trusted": true
      },
      "execution_count": null,
      "outputs": [],
      "id": "4ec38a31"
    },
    {
      "cell_type": "code",
      "source": [
        "# Top 25 most frequency values for Train and Test related dataset words\n",
        "freq_df[(freq_df['pos'] == 'NOUN') | ((freq_df['pos'] == 'PROPN'))]['word'].value_counts()[:25]"
      ],
      "metadata": {
        "papermill": {
          "duration": 0.116223,
          "end_time": "2021-09-05T11:22:04.173923",
          "exception": false,
          "start_time": "2021-09-05T11:22:04.057700",
          "status": "completed"
        },
        "tags": [],
        "colab": {
          "base_uri": "https://localhost:8080/"
        },
        "id": "b4b753c3",
        "outputId": "acd95074-23c6-4afd-c4d1-78cec1800ad1",
        "execution": {
          "iopub.status.busy": "2022-11-25T17:45:26.119516Z",
          "iopub.execute_input": "2022-11-25T17:45:26.121114Z",
          "iopub.status.idle": "2022-11-25T17:45:26.157551Z",
          "shell.execute_reply.started": "2022-11-25T17:45:26.121077Z",
          "shell.execute_reply": "2022-11-25T17:45:26.156695Z"
        },
        "trusted": true
      },
      "execution_count": null,
      "outputs": [
        {
          "execution_count": 23,
          "output_type": "execute_result",
          "data": {
            "text/plain": "patients        492\ntreatment       281\ncancer          200\ntherapy         175\ndisease         143\ncell            140\nlung            116\ngroup            94\nchemotherapy     88\ngene             88\neffects          85\nresults          79\nwomen            77\npatient          75\nTO_SEE           75\ncases            71\nrisk             71\nsurgery          71\nanalysis         70\nrate             67\nhuman            67\nresponse         66\nsurvival         65\nchildren         64\neffect           64\nName: word, dtype: int64"
          },
          "metadata": {}
        }
      ],
      "id": "b4b753c3"
    },
    {
      "cell_type": "code",
      "source": [
        "# Top 25 most frequency values for Train and Test related lemma words\n",
        "freq_df[(freq_df['pos'] == 'NOUN') | ((freq_df['pos'] == 'PROPN'))]['lemma'].value_counts()[:25]"
      ],
      "metadata": {
        "papermill": {
          "duration": 0.1033,
          "end_time": "2021-09-05T11:22:04.332299",
          "exception": false,
          "start_time": "2021-09-05T11:22:04.228999",
          "status": "completed"
        },
        "tags": [],
        "colab": {
          "base_uri": "https://localhost:8080/"
        },
        "id": "7d3930e8",
        "outputId": "78f49318-46eb-48b7-99f0-39ddedae4a04",
        "execution": {
          "iopub.status.busy": "2022-11-25T17:45:26.158688Z",
          "iopub.execute_input": "2022-11-25T17:45:26.159049Z",
          "iopub.status.idle": "2022-11-25T17:45:26.188926Z",
          "shell.execute_reply.started": "2022-11-25T17:45:26.159016Z",
          "shell.execute_reply": "2022-11-25T17:45:26.187857Z"
        },
        "trusted": true
      },
      "execution_count": null,
      "outputs": [
        {
          "execution_count": 24,
          "output_type": "execute_result",
          "data": {
            "text/plain": "patient         587\ntreatment       316\ncancer          226\ncell            203\ntherapy         182\neffect          182\ndisease         172\ncase            132\ngroup           128\nlung            120\nresult          118\ngene            112\nyear            105\nrate            103\ntrial            91\nchemotherapy     91\nwoman            89\nanalysis         86\nhuman            85\nprotein          82\nstudy            82\nresponse         81\nrisk             78\nchild            78\nmutation         75\nName: lemma, dtype: int64"
          },
          "metadata": {}
        }
      ],
      "id": "7d3930e8"
    },
    {
      "cell_type": "markdown",
      "source": [
        "### Dataframe (Sentence, word, POS) visualisation"
      ],
      "metadata": {
        "papermill": {
          "duration": 0.055426,
          "end_time": "2021-09-05T11:22:04.443029",
          "exception": false,
          "start_time": "2021-09-05T11:22:04.387603",
          "status": "completed"
        },
        "tags": [],
        "id": "e7ffa3d7"
      },
      "id": "e7ffa3d7"
    },
    {
      "cell_type": "code",
      "source": [
        "train_df.head(5)"
      ],
      "metadata": {
        "papermill": {
          "duration": 0.075873,
          "end_time": "2021-09-05T11:22:04.631271",
          "exception": false,
          "start_time": "2021-09-05T11:22:04.555398",
          "status": "completed"
        },
        "tags": [],
        "colab": {
          "base_uri": "https://localhost:8080/",
          "height": 206
        },
        "id": "6d1fbec0",
        "outputId": "869439e5-bf9b-4234-ccc4-2bc5caac5a8a",
        "execution": {
          "iopub.status.busy": "2022-11-25T17:45:26.190325Z",
          "iopub.execute_input": "2022-11-25T17:45:26.190655Z",
          "iopub.status.idle": "2022-11-25T17:45:26.214376Z",
          "shell.execute_reply.started": "2022-11-25T17:45:26.190623Z",
          "shell.execute_reply": "2022-11-25T17:45:26.213553Z"
        },
        "trusted": true
      },
      "execution_count": null,
      "outputs": [
        {
          "execution_count": 25,
          "output_type": "execute_result",
          "data": {
            "text/plain": "  sentence    word  lemma    pos label\n0        1     All    all   PRON     O\n1        1    live   live   VERB     O\n2        1  births  birth   NOUN     O\n3        1       >      >  PUNCT     O\n4        1      or     or  CCONJ     O",
            "text/html": "<div>\n<style scoped>\n    .dataframe tbody tr th:only-of-type {\n        vertical-align: middle;\n    }\n\n    .dataframe tbody tr th {\n        vertical-align: top;\n    }\n\n    .dataframe thead th {\n        text-align: right;\n    }\n</style>\n<table border=\"1\" class=\"dataframe\">\n  <thead>\n    <tr style=\"text-align: right;\">\n      <th></th>\n      <th>sentence</th>\n      <th>word</th>\n      <th>lemma</th>\n      <th>pos</th>\n      <th>label</th>\n    </tr>\n  </thead>\n  <tbody>\n    <tr>\n      <th>0</th>\n      <td>1</td>\n      <td>All</td>\n      <td>all</td>\n      <td>PRON</td>\n      <td>O</td>\n    </tr>\n    <tr>\n      <th>1</th>\n      <td>1</td>\n      <td>live</td>\n      <td>live</td>\n      <td>VERB</td>\n      <td>O</td>\n    </tr>\n    <tr>\n      <th>2</th>\n      <td>1</td>\n      <td>births</td>\n      <td>birth</td>\n      <td>NOUN</td>\n      <td>O</td>\n    </tr>\n    <tr>\n      <th>3</th>\n      <td>1</td>\n      <td>&gt;</td>\n      <td>&gt;</td>\n      <td>PUNCT</td>\n      <td>O</td>\n    </tr>\n    <tr>\n      <th>4</th>\n      <td>1</td>\n      <td>or</td>\n      <td>or</td>\n      <td>CCONJ</td>\n      <td>O</td>\n    </tr>\n  </tbody>\n</table>\n</div>"
          },
          "metadata": {}
        }
      ],
      "id": "6d1fbec0"
    },
    {
      "cell_type": "code",
      "source": [
        "test_df.head(5)"
      ],
      "metadata": {
        "papermill": {
          "duration": 0.072296,
          "end_time": "2021-09-05T11:22:04.759294",
          "exception": false,
          "start_time": "2021-09-05T11:22:04.686998",
          "status": "completed"
        },
        "tags": [],
        "colab": {
          "base_uri": "https://localhost:8080/",
          "height": 206
        },
        "id": "95776932",
        "outputId": "5aef7a6a-4c18-43d9-f13b-b57dc8f8ee36",
        "execution": {
          "iopub.status.busy": "2022-11-25T17:45:26.215963Z",
          "iopub.execute_input": "2022-11-25T17:45:26.216310Z",
          "iopub.status.idle": "2022-11-25T17:45:26.228303Z",
          "shell.execute_reply.started": "2022-11-25T17:45:26.216266Z",
          "shell.execute_reply": "2022-11-25T17:45:26.227344Z"
        },
        "trusted": true
      },
      "execution_count": null,
      "outputs": [
        {
          "execution_count": 26,
          "output_type": "execute_result",
          "data": {
            "text/plain": "  sentence         word        lemma    pos label\n0        1  Furthermore  furthermore    ADV     O\n1        1            ,            ,  PUNCT     O\n2        1         when         when  SCONJ     O\n3        1          all          all   PRON     O\n4        1   deliveries     delivery   NOUN     O",
            "text/html": "<div>\n<style scoped>\n    .dataframe tbody tr th:only-of-type {\n        vertical-align: middle;\n    }\n\n    .dataframe tbody tr th {\n        vertical-align: top;\n    }\n\n    .dataframe thead th {\n        text-align: right;\n    }\n</style>\n<table border=\"1\" class=\"dataframe\">\n  <thead>\n    <tr style=\"text-align: right;\">\n      <th></th>\n      <th>sentence</th>\n      <th>word</th>\n      <th>lemma</th>\n      <th>pos</th>\n      <th>label</th>\n    </tr>\n  </thead>\n  <tbody>\n    <tr>\n      <th>0</th>\n      <td>1</td>\n      <td>Furthermore</td>\n      <td>furthermore</td>\n      <td>ADV</td>\n      <td>O</td>\n    </tr>\n    <tr>\n      <th>1</th>\n      <td>1</td>\n      <td>,</td>\n      <td>,</td>\n      <td>PUNCT</td>\n      <td>O</td>\n    </tr>\n    <tr>\n      <th>2</th>\n      <td>1</td>\n      <td>when</td>\n      <td>when</td>\n      <td>SCONJ</td>\n      <td>O</td>\n    </tr>\n    <tr>\n      <th>3</th>\n      <td>1</td>\n      <td>all</td>\n      <td>all</td>\n      <td>PRON</td>\n      <td>O</td>\n    </tr>\n    <tr>\n      <th>4</th>\n      <td>1</td>\n      <td>deliveries</td>\n      <td>delivery</td>\n      <td>NOUN</td>\n      <td>O</td>\n    </tr>\n  </tbody>\n</table>\n</div>"
          },
          "metadata": {}
        }
      ],
      "id": "95776932"
    },
    {
      "cell_type": "markdown",
      "source": [
        "### Sentense-wise detail dataframe preparation"
      ],
      "metadata": {
        "papermill": {
          "duration": 0.057675,
          "end_time": "2021-09-05T11:22:04.874701",
          "exception": false,
          "start_time": "2021-09-05T11:22:04.817026",
          "status": "completed"
        },
        "tags": [],
        "id": "aa972db5"
      },
      "id": "aa972db5"
    },
    {
      "cell_type": "code",
      "source": [
        "# Fetch detail view of sentence for train set\n",
        "train_sent_obj = sentencedetail(train_df)\n",
        "train_sent_detail = train_sent_obj.sentences"
      ],
      "metadata": {
        "papermill": {
          "duration": 0.43194,
          "end_time": "2021-09-05T11:22:05.365249",
          "exception": false,
          "start_time": "2021-09-05T11:22:04.933309",
          "status": "completed"
        },
        "tags": [],
        "id": "47233051",
        "execution": {
          "iopub.status.busy": "2022-11-25T17:45:26.229859Z",
          "iopub.execute_input": "2022-11-25T17:45:26.230497Z",
          "iopub.status.idle": "2022-11-25T17:45:26.518086Z",
          "shell.execute_reply.started": "2022-11-25T17:45:26.230460Z",
          "shell.execute_reply": "2022-11-25T17:45:26.517117Z"
        },
        "trusted": true
      },
      "execution_count": null,
      "outputs": [],
      "id": "47233051"
    },
    {
      "cell_type": "code",
      "source": [
        "# Display one sentence detail view for train set\n",
        "train_sent_detail[0]"
      ],
      "metadata": {
        "papermill": {
          "duration": 0.068342,
          "end_time": "2021-09-05T11:22:05.489760",
          "exception": false,
          "start_time": "2021-09-05T11:22:05.421418",
          "status": "completed"
        },
        "tags": [],
        "colab": {
          "base_uri": "https://localhost:8080/"
        },
        "id": "0440ff9f",
        "outputId": "e77811c9-7706-4f5f-b725-13e341528161",
        "execution": {
          "iopub.status.busy": "2022-11-25T17:45:26.522829Z",
          "iopub.execute_input": "2022-11-25T17:45:26.523115Z",
          "iopub.status.idle": "2022-11-25T17:45:26.531508Z",
          "shell.execute_reply.started": "2022-11-25T17:45:26.523089Z",
          "shell.execute_reply": "2022-11-25T17:45:26.530517Z"
        },
        "trusted": true
      },
      "execution_count": null,
      "outputs": [
        {
          "execution_count": 28,
          "output_type": "execute_result",
          "data": {
            "text/plain": "[('All', 'PRON', 'O'),\n ('live', 'VERB', 'O'),\n ('births', 'NOUN', 'O'),\n ('>', 'PUNCT', 'O'),\n ('or', 'CCONJ', 'O'),\n ('=', 'PUNCT', 'O'),\n ('23', 'NUM', 'O'),\n ('weeks', 'NOUN', 'O'),\n ('at', 'ADP', 'O'),\n ('the', 'PRON', 'O'),\n ('University', 'NOUN', 'O'),\n ('of', 'ADP', 'O'),\n ('Vermont', 'PROPN', 'O'),\n ('in', 'ADP', 'O'),\n ('1995', 'NUM', 'O'),\n ('(', 'PUNCT', 'O'),\n ('n', 'CCONJ', 'O'),\n ('=', 'PUNCT', 'O'),\n ('2395', 'NUM', 'O'),\n (')', 'PUNCT', 'O'),\n ('were', 'AUX', 'O'),\n ('retrospectively', 'ADV', 'O'),\n ('analyzed', 'VERB', 'O'),\n ('for', 'ADP', 'O'),\n ('delivery', 'NOUN', 'O'),\n ('route', 'NOUN', 'O'),\n (',', 'PUNCT', 'O'),\n ('indication', 'NOUN', 'O'),\n ('for', 'ADP', 'O'),\n ('cesarean', 'PROPN', 'O'),\n (',', 'PUNCT', 'O'),\n ('gestational', 'ADJ', 'O'),\n ('age', 'NOUN', 'O'),\n (',', 'PUNCT', 'O'),\n ('parity', 'NOUN', 'O'),\n (',', 'PUNCT', 'O'),\n ('and', 'CCONJ', 'O'),\n ('practice', 'VERB', 'O'),\n ('group', 'NOUN', 'O'),\n ('(', 'PUNCT', 'O'),\n ('to', 'PART', 'O'),\n ('reflect', 'VERB', 'O'),\n ('risk', 'NOUN', 'O'),\n ('status', 'NOUN', 'O'),\n (')', 'PUNCT', 'O')]"
          },
          "metadata": {}
        }
      ],
      "id": "0440ff9f"
    },
    {
      "cell_type": "code",
      "source": [
        "# Fetch detail view of sentence for train set\n",
        "test_sent_obj = sentencedetail(test_df)\n",
        "test_sent_detail = test_sent_obj.sentences"
      ],
      "metadata": {
        "papermill": {
          "duration": 0.214701,
          "end_time": "2021-09-05T11:22:05.763297",
          "exception": false,
          "start_time": "2021-09-05T11:22:05.548596",
          "status": "completed"
        },
        "tags": [],
        "id": "f355fec0",
        "execution": {
          "iopub.status.busy": "2022-11-25T17:45:26.533323Z",
          "iopub.execute_input": "2022-11-25T17:45:26.533983Z",
          "iopub.status.idle": "2022-11-25T17:45:26.658761Z",
          "shell.execute_reply.started": "2022-11-25T17:45:26.533948Z",
          "shell.execute_reply": "2022-11-25T17:45:26.657831Z"
        },
        "trusted": true
      },
      "execution_count": null,
      "outputs": [],
      "id": "f355fec0"
    },
    {
      "cell_type": "code",
      "source": [
        "# Display one sentence detail view for train set\n",
        "test_sent_detail[0]"
      ],
      "metadata": {
        "papermill": {
          "duration": 0.068699,
          "end_time": "2021-09-05T11:22:05.888829",
          "exception": false,
          "start_time": "2021-09-05T11:22:05.820130",
          "status": "completed"
        },
        "tags": [],
        "colab": {
          "base_uri": "https://localhost:8080/"
        },
        "id": "4eb272d8",
        "outputId": "dbd51340-0202-4957-9085-8de38fd3833d",
        "execution": {
          "iopub.status.busy": "2022-11-25T17:45:26.660281Z",
          "iopub.execute_input": "2022-11-25T17:45:26.660645Z",
          "iopub.status.idle": "2022-11-25T17:45:26.669887Z",
          "shell.execute_reply.started": "2022-11-25T17:45:26.660607Z",
          "shell.execute_reply": "2022-11-25T17:45:26.668849Z"
        },
        "trusted": true
      },
      "execution_count": null,
      "outputs": [
        {
          "execution_count": 30,
          "output_type": "execute_result",
          "data": {
            "text/plain": "[('Furthermore', 'ADV', 'O'),\n (',', 'PUNCT', 'O'),\n ('when', 'SCONJ', 'O'),\n ('all', 'PRON', 'O'),\n ('deliveries', 'NOUN', 'O'),\n ('were', 'AUX', 'O'),\n ('analyzed', 'VERB', 'O'),\n (',', 'PUNCT', 'O'),\n ('regardless', 'ADV', 'O'),\n ('of', 'ADP', 'O'),\n ('risk', 'NOUN', 'O'),\n ('status', 'NOUN', 'O'),\n ('but', 'CCONJ', 'O'),\n ('limited', 'ADJ', 'O'),\n ('to', 'PART', 'O'),\n ('gestational', 'ADJ', 'O'),\n ('age', 'NOUN', 'O'),\n ('>', 'PUNCT', 'O'),\n ('or', 'CCONJ', 'O'),\n ('=', 'PUNCT', 'O'),\n ('36', 'NUM', 'O'),\n ('weeks', 'NOUN', 'O'),\n (',', 'PUNCT', 'O'),\n ('the', 'PRON', 'O'),\n ('rates', 'NOUN', 'O'),\n ('did', 'VERB', 'O'),\n ('not', 'PART', 'O'),\n ('change', 'VERB', 'O'),\n ('(', 'PUNCT', 'O'),\n ('12.6', 'NUM', 'O'),\n ('%', 'INTJ', 'O'),\n (',', 'PUNCT', 'O'),\n ('280', 'NUM', 'O'),\n ('of', 'ADP', 'O'),\n ('2214', 'NUM', 'O'),\n (';', 'PUNCT', 'O'),\n ('primary', 'NOUN', 'O'),\n ('9.2', 'NUM', 'O'),\n ('%', 'INTJ', 'O'),\n (',', 'PUNCT', 'O'),\n ('183', 'NUM', 'O'),\n ('of', 'ADP', 'O'),\n ('1994', 'NUM', 'O'),\n (')', 'PUNCT', 'O')]"
          },
          "metadata": {}
        }
      ],
      "id": "4eb272d8"
    },
    {
      "cell_type": "markdown",
      "source": [
        "## Input and Target Variable"
      ],
      "metadata": {
        "papermill": {
          "duration": 0.057378,
          "end_time": "2021-09-05T11:22:06.003641",
          "exception": false,
          "start_time": "2021-09-05T11:22:05.946263",
          "status": "completed"
        },
        "tags": [],
        "id": "eb89a68f"
      },
      "id": "eb89a68f"
    },
    {
      "cell_type": "code",
      "source": [
        "# Prepare X-train and X-test by extracting features from train and test dataset\n",
        "X_train = [sent2features(s) for s in train_sent_detail]\n",
        "X_test = [sent2features(s) for s in test_sent_detail]"
      ],
      "metadata": {
        "papermill": {
          "duration": 0.458962,
          "end_time": "2021-09-05T11:22:06.519561",
          "exception": false,
          "start_time": "2021-09-05T11:22:06.060599",
          "status": "completed"
        },
        "tags": [],
        "id": "bac9b036",
        "execution": {
          "iopub.status.busy": "2022-11-25T17:45:26.671762Z",
          "iopub.execute_input": "2022-11-25T17:45:26.672565Z",
          "iopub.status.idle": "2022-11-25T17:45:26.981740Z",
          "shell.execute_reply.started": "2022-11-25T17:45:26.672526Z",
          "shell.execute_reply": "2022-11-25T17:45:26.980633Z"
        },
        "trusted": true
      },
      "execution_count": null,
      "outputs": [],
      "id": "bac9b036"
    },
    {
      "cell_type": "code",
      "source": [
        "# Prepare y-train and y-test by extracting labels from train and test dataset\n",
        "y_train = [sent2labels(l) for l in train_sent_detail]\n",
        "y_test = [sent2labels(l) for l in test_sent_detail]"
      ],
      "metadata": {
        "papermill": {
          "duration": 0.076771,
          "end_time": "2021-09-05T11:22:06.653854",
          "exception": false,
          "start_time": "2021-09-05T11:22:06.577083",
          "status": "completed"
        },
        "tags": [],
        "id": "8b987973",
        "execution": {
          "iopub.status.busy": "2022-11-25T17:45:26.983309Z",
          "iopub.execute_input": "2022-11-25T17:45:26.983799Z",
          "iopub.status.idle": "2022-11-25T17:45:26.998684Z",
          "shell.execute_reply.started": "2022-11-25T17:45:26.983741Z",
          "shell.execute_reply": "2022-11-25T17:45:26.997674Z"
        },
        "trusted": true
      },
      "execution_count": null,
      "outputs": [],
      "id": "8b987973"
    },
    {
      "cell_type": "markdown",
      "source": [
        "## Building CRF model using sklearn"
      ],
      "metadata": {
        "papermill": {
          "duration": 0.056163,
          "end_time": "2021-09-05T11:22:06.766786",
          "exception": false,
          "start_time": "2021-09-05T11:22:06.710623",
          "status": "completed"
        },
        "tags": [],
        "id": "ed38e23c"
      },
      "id": "ed38e23c"
    },
    {
      "cell_type": "code",
      "source": [
        "# Build the CRF model.\n",
        "crf = CRF(max_iterations=100, c1=1.0, c2=0.01, all_possible_transitions=False)\n",
        "\n",
        "# fit the model\n",
        "crf.fit(X_train, y_train)"
      ],
      "metadata": {
        "papermill": {
          "duration": 5.299987,
          "end_time": "2021-09-05T11:22:12.124567",
          "exception": false,
          "start_time": "2021-09-05T11:22:06.824580",
          "status": "completed"
        },
        "tags": [],
        "colab": {
          "base_uri": "https://localhost:8080/"
        },
        "id": "1a09bec0",
        "outputId": "743fb21a-b4e4-445c-a4c6-a27ad8933182",
        "execution": {
          "iopub.status.busy": "2022-11-25T17:45:27.000166Z",
          "iopub.execute_input": "2022-11-25T17:45:27.001161Z",
          "iopub.status.idle": "2022-11-25T17:45:34.067723Z",
          "shell.execute_reply.started": "2022-11-25T17:45:27.001125Z",
          "shell.execute_reply": "2022-11-25T17:45:34.066689Z"
        },
        "trusted": true
      },
      "execution_count": null,
      "outputs": [
        {
          "execution_count": 33,
          "output_type": "execute_result",
          "data": {
            "text/plain": "CRF(all_possible_transitions=False, c1=1.0, c2=0.01, keep_tempfiles=None,\n    max_iterations=100)"
          },
          "metadata": {}
        }
      ],
      "id": "1a09bec0"
    },
    {
      "cell_type": "markdown",
      "source": [
        "## Evaluate model (F1-score)"
      ],
      "metadata": {
        "papermill": {
          "duration": 0.057102,
          "end_time": "2021-09-05T11:22:12.238979",
          "exception": false,
          "start_time": "2021-09-05T11:22:12.181877",
          "status": "completed"
        },
        "tags": [],
        "id": "0e095760"
      },
      "id": "0e095760"
    },
    {
      "cell_type": "code",
      "source": [
        "# Calculate the f1 score using the test data\n",
        "y_pred = crf.predict(X_test)\n",
        "f1_score = metrics.flat_f1_score(y_test, y_pred, average='weighted')\n",
        "print('Predicted F1-score for Medical Entity Dataset is: {0} % '.format(round(f1_score*100,2)))"
      ],
      "metadata": {
        "papermill": {
          "duration": 0.52917,
          "end_time": "2021-09-05T11:22:12.825454",
          "exception": false,
          "start_time": "2021-09-05T11:22:12.296284",
          "status": "completed"
        },
        "tags": [],
        "colab": {
          "base_uri": "https://localhost:8080/"
        },
        "id": "0463870f",
        "outputId": "7e33262d-a340-46f3-ba40-d111c8c8b355",
        "execution": {
          "iopub.status.busy": "2022-11-25T17:45:34.069095Z",
          "iopub.execute_input": "2022-11-25T17:45:34.069772Z",
          "iopub.status.idle": "2022-11-25T17:45:34.374395Z",
          "shell.execute_reply.started": "2022-11-25T17:45:34.069730Z",
          "shell.execute_reply": "2022-11-25T17:45:34.372323Z"
        },
        "trusted": true
      },
      "execution_count": null,
      "outputs": [
        {
          "name": "stdout",
          "text": "Predicted F1-score for Medical Entity Dataset is: 91.71 % \n",
          "output_type": "stream"
        }
      ],
      "id": "0463870f"
    },
    {
      "cell_type": "markdown",
      "source": [
        "## Predict Disease and Treatment"
      ],
      "metadata": {
        "papermill": {
          "duration": 0.057595,
          "end_time": "2021-09-05T11:22:12.942088",
          "exception": false,
          "start_time": "2021-09-05T11:22:12.884493",
          "status": "completed"
        },
        "tags": [],
        "id": "3f0cd266"
      },
      "id": "3f0cd266"
    },
    {
      "cell_type": "code",
      "source": [
        "# Taken out predicted label from the model\n",
        "pred_label=[]\n",
        "for i in y_pred:\n",
        "    pred_label.extend(i)"
      ],
      "metadata": {
        "papermill": {
          "duration": 0.067813,
          "end_time": "2021-09-05T11:22:13.069462",
          "exception": false,
          "start_time": "2021-09-05T11:22:13.001649",
          "status": "completed"
        },
        "tags": [],
        "id": "58369563",
        "execution": {
          "iopub.status.busy": "2022-11-25T17:45:34.375783Z",
          "iopub.execute_input": "2022-11-25T17:45:34.376196Z",
          "iopub.status.idle": "2022-11-25T17:45:34.382120Z",
          "shell.execute_reply.started": "2022-11-25T17:45:34.376162Z",
          "shell.execute_reply": "2022-11-25T17:45:34.380990Z"
        },
        "trusted": true
      },
      "execution_count": null,
      "outputs": [],
      "id": "58369563"
    },
    {
      "cell_type": "code",
      "source": [
        "# Loaded into test dataframe\n",
        "test_df['label_predicted'] = pred_label"
      ],
      "metadata": {
        "papermill": {
          "duration": 0.069278,
          "end_time": "2021-09-05T11:22:13.197947",
          "exception": false,
          "start_time": "2021-09-05T11:22:13.128669",
          "status": "completed"
        },
        "tags": [],
        "id": "9b611721",
        "execution": {
          "iopub.status.busy": "2022-11-25T17:45:34.384122Z",
          "iopub.execute_input": "2022-11-25T17:45:34.384900Z",
          "iopub.status.idle": "2022-11-25T17:45:34.394300Z",
          "shell.execute_reply.started": "2022-11-25T17:45:34.384861Z",
          "shell.execute_reply": "2022-11-25T17:45:34.393127Z"
        },
        "trusted": true
      },
      "execution_count": null,
      "outputs": [],
      "id": "9b611721"
    },
    {
      "cell_type": "code",
      "source": [
        "# Visualise top 5 data\n",
        "test_df.head(5)"
      ],
      "metadata": {
        "papermill": {
          "duration": 0.074557,
          "end_time": "2021-09-05T11:22:13.331201",
          "exception": false,
          "start_time": "2021-09-05T11:22:13.256644",
          "status": "completed"
        },
        "tags": [],
        "colab": {
          "base_uri": "https://localhost:8080/",
          "height": 206
        },
        "id": "487b27c2",
        "outputId": "6deb195f-301e-4b27-bd13-7099699cb7bb",
        "execution": {
          "iopub.status.busy": "2022-11-25T17:45:34.396107Z",
          "iopub.execute_input": "2022-11-25T17:45:34.396480Z",
          "iopub.status.idle": "2022-11-25T17:45:34.412398Z",
          "shell.execute_reply.started": "2022-11-25T17:45:34.396441Z",
          "shell.execute_reply": "2022-11-25T17:45:34.411193Z"
        },
        "trusted": true
      },
      "execution_count": null,
      "outputs": [
        {
          "execution_count": 37,
          "output_type": "execute_result",
          "data": {
            "text/plain": "  sentence         word        lemma    pos label label_predicted\n0        1  Furthermore  furthermore    ADV     O               O\n1        1            ,            ,  PUNCT     O               O\n2        1         when         when  SCONJ     O               O\n3        1          all          all   PRON     O               O\n4        1   deliveries     delivery   NOUN     O               O",
            "text/html": "<div>\n<style scoped>\n    .dataframe tbody tr th:only-of-type {\n        vertical-align: middle;\n    }\n\n    .dataframe tbody tr th {\n        vertical-align: top;\n    }\n\n    .dataframe thead th {\n        text-align: right;\n    }\n</style>\n<table border=\"1\" class=\"dataframe\">\n  <thead>\n    <tr style=\"text-align: right;\">\n      <th></th>\n      <th>sentence</th>\n      <th>word</th>\n      <th>lemma</th>\n      <th>pos</th>\n      <th>label</th>\n      <th>label_predicted</th>\n    </tr>\n  </thead>\n  <tbody>\n    <tr>\n      <th>0</th>\n      <td>1</td>\n      <td>Furthermore</td>\n      <td>furthermore</td>\n      <td>ADV</td>\n      <td>O</td>\n      <td>O</td>\n    </tr>\n    <tr>\n      <th>1</th>\n      <td>1</td>\n      <td>,</td>\n      <td>,</td>\n      <td>PUNCT</td>\n      <td>O</td>\n      <td>O</td>\n    </tr>\n    <tr>\n      <th>2</th>\n      <td>1</td>\n      <td>when</td>\n      <td>when</td>\n      <td>SCONJ</td>\n      <td>O</td>\n      <td>O</td>\n    </tr>\n    <tr>\n      <th>3</th>\n      <td>1</td>\n      <td>all</td>\n      <td>all</td>\n      <td>PRON</td>\n      <td>O</td>\n      <td>O</td>\n    </tr>\n    <tr>\n      <th>4</th>\n      <td>1</td>\n      <td>deliveries</td>\n      <td>delivery</td>\n      <td>NOUN</td>\n      <td>O</td>\n      <td>O</td>\n    </tr>\n  </tbody>\n</table>\n</div>"
          },
          "metadata": {}
        }
      ],
      "id": "487b27c2"
    },
    {
      "cell_type": "markdown",
      "source": [
        "### Dictionary Preparation"
      ],
      "metadata": {
        "papermill": {
          "duration": 0.059291,
          "end_time": "2021-09-05T11:22:13.448545",
          "exception": false,
          "start_time": "2021-09-05T11:22:13.389254",
          "status": "completed"
        },
        "tags": [],
        "id": "3ef22ca2"
      },
      "id": "3ef22ca2"
    },
    {
      "cell_type": "code",
      "source": [
        "# Preparing dictionary by keeping Disease as unique Key element and Treatment as value element\n",
        "new_df =test_df[(test_df['label_predicted'] != 'O')]\n",
        "new_df.set_index('sentence',inplace=True)\n",
        "disease=[]\n",
        "treatment=[]\n",
        "sentence=[]\n",
        "med_dict = {}\n",
        "for i in new_df.index.unique():\n",
        "    try:\n",
        "        val = new_df.loc[i,'label_predicted'].unique()\n",
        "        if len(val) == 2:\n",
        "            disease_val = new_df[new_df['label_predicted'] == 'D'].loc[i,'word']\n",
        "            treatment_val = new_df[new_df['label_predicted'] == 'T'].loc[i,'word']\n",
        "            disease_single = disease_val if type(disease_val) == str else \" \".join(disease_val)\n",
        "            treatment_single = treatment_val if type(treatment_val) == str else \" \".join(treatment_val)\n",
        "            if disease_single not in disease:\n",
        "                med_dict[disease_single] = treatment_single\n",
        "            else:\n",
        "                print('Entered')\n",
        "                med_dict[disease_single] = med_dict.get(disease_single)+'/'+treatment_single\n",
        "    except AttributeError:\n",
        "        pass"
      ],
      "metadata": {
        "papermill": {
          "duration": 0.545493,
          "end_time": "2021-09-05T11:22:14.052452",
          "exception": false,
          "start_time": "2021-09-05T11:22:13.506959",
          "status": "completed"
        },
        "tags": [],
        "id": "ceecd923",
        "execution": {
          "iopub.status.busy": "2022-11-25T17:45:34.413912Z",
          "iopub.execute_input": "2022-11-25T17:45:34.414406Z",
          "iopub.status.idle": "2022-11-25T17:45:34.746893Z",
          "shell.execute_reply.started": "2022-11-25T17:45:34.414369Z",
          "shell.execute_reply": "2022-11-25T17:45:34.745904Z"
        },
        "trusted": true
      },
      "execution_count": null,
      "outputs": [],
      "id": "ceecd923"
    },
    {
      "cell_type": "code",
      "source": [
        "import pprint as pp"
      ],
      "metadata": {
        "id": "x0Pj7IIrPgWP",
        "execution": {
          "iopub.status.busy": "2022-11-25T17:45:34.748288Z",
          "iopub.execute_input": "2022-11-25T17:45:34.748729Z",
          "iopub.status.idle": "2022-11-25T17:45:34.754403Z",
          "shell.execute_reply.started": "2022-11-25T17:45:34.748690Z",
          "shell.execute_reply": "2022-11-25T17:45:34.753309Z"
        },
        "trusted": true
      },
      "execution_count": null,
      "outputs": [],
      "id": "x0Pj7IIrPgWP"
    },
    {
      "cell_type": "code",
      "source": [
        "pp.pprint(med_dict, indent = 4)"
      ],
      "metadata": {
        "papermill": {
          "duration": 0.069443,
          "end_time": "2021-09-05T11:22:14.180921",
          "exception": false,
          "start_time": "2021-09-05T11:22:14.111478",
          "status": "completed"
        },
        "tags": [],
        "colab": {
          "base_uri": "https://localhost:8080/"
        },
        "id": "31144af3",
        "outputId": "0ffb1e39-f668-49e7-fdb0-f0f3ec92ffd3",
        "execution": {
          "iopub.status.busy": "2022-11-25T17:45:34.755971Z",
          "iopub.execute_input": "2022-11-25T17:45:34.756334Z",
          "iopub.status.idle": "2022-11-25T17:45:34.771679Z",
          "shell.execute_reply.started": "2022-11-25T17:45:34.756298Z",
          "shell.execute_reply": "2022-11-25T17:45:34.770745Z"
        },
        "trusted": true
      },
      "execution_count": null,
      "outputs": [
        {
          "name": "stdout",
          "text": "{   \"'s disease\": 'Ovine Johne',\n    'Alopecia': 'tacrolimus therapy',\n    'B16 melanoma': 'adenosine triphosphate and treatment buthionine '\n                    'sulfoximine',\n    \"Eisenmenger 's syndrome\": 'laparoscopic cholecystectomy',\n    \"Parkinson 's disease\": 'Microelectrode - guided posteroventral '\n                            'pallidotomy',\n    'acoustic neuroma': 'Stereotactic radiosurgery',\n    'acute carbon monoxide poisoning': 'Hyperbaric or normobaric oxygen',\n    'acute cerebral ischemia': 'Antiplatelet therapy',\n    'acute myocardial infarction': 'thrombolytic treatment',\n    'acute nasopharyngitis': 'antibiotic treatment',\n    'advanced non -- small - cell lung cancer': 'paclitaxel plus carboplatin ( '\n                                                'pc ) vinorelbine plus '\n                                                'cisplatin ( vc )',\n    'advanced nsclc': 'assessing combination chemotherapy of cisplatin , '\n                      'ifosfamide and irinotecan with rhg - csf support',\n    'advanced rectal cancer': 'Nerve - sparing surgery',\n    'advanced renal cell carcinoma': 'various interferon alpha preparations '\n                                     'interferon alfa - N1 , interferon '\n                                     'alfa-2a , and interferon alfa-2b',\n    'asthma': 'Fluticasone propionate',\n    'autoimmune hemolytic anemia': 'heparin',\n    'bacterial meningitis Haemophilus influenzae meningitis': 'antibiotic - '\n                                                              'resistant '\n                                                              'strains',\n    'biliary colic symptoms biliary dyskinesia': 'cholecystectomy',\n    'biliary dyskinesia': 'Cholecystectomy',\n    'breast cancer': 'Hormone replacement therapy',\n    'bronchial asthma': 'Non - steroidal anti - inflammatory therapy',\n    'bronchiectasis': 'Current surgical therapy',\n    'cancer': 'Matrix metalloproteinase inhibitors',\n    'carcinoma': 'esophagectomy',\n    'cardiac disease': 'fenfluramine - phentermine',\n    'cerebral palsy': 'Hyperbaric oxygen therapy',\n    'cholestasis': 'Inchinko - to ( TJ-135 ) crude drugs',\n    'chronic hepatitis C': 'Combination therapy with interferon - alpha ( IFN '\n                           'alpha ) plus Ribavirin',\n    'colorectal cancer': 'docosahexanoic acid ( DHA ) -concentrated fish oil '\n                         'capsules',\n    'colorectal metastases': 'therapeutic vats metastasectomy',\n    'common cold': 'Macrolide antibiotics',\n    'coronary - artery disease': 'Antichlamydial antibiotics',\n    'corpal gastritis': 'gastric acid secretion',\n    'diabetes cases': 'good glycemic control',\n    'disseminated malignant melanoma': 'leukocyte A recombinant interferon ( '\n                                       'rIFN - alpha A , Roferon - A',\n    'duodenal ulcer': 'subtotal gastrectomy',\n    \"early Parkinson 's disease\": 'Ropinirole monotherapy',\n    'empyema': 'Thoracoscopy',\n    'epilepsy': 'Methylphenidate',\n    'epithelial ovarian cancer': 'High - dose chemotherapy with autologous '\n                                 'stem - cell support',\n    'esophageal achalasia': 'botulinum toxin injection , pneumatic dilation , '\n                            'and laparoscopic myotomy',\n    'essential hypertension': 'moxonidine',\n    'female stress urinary incontinence': 'surgical treatment',\n    'foot infection': 'G - CSF treatment',\n    'gastroesophageal and duodenogastric reflux': 'cholecystectomy',\n    'gastrointestinal tumours': 'Elective surgery',\n    'hairy cell leukemia infection': 'antileukemic therapy',\n    'head and neck cancer xerostomia': 'irradiation therapy intravenous '\n                                       'amifostine',\n    'heart failure': 'beta - blockade',\n    'hemorrhagic stroke': 'double - bolus alteplase',\n    'hepatic metastases from colorectal cancer': 'Hepatic arterial infusion of '\n                                                 'chemotherapy after resection',\n    'hepatitis C viremia': 'combination therapy',\n    'infection': 'combination of omeprazole , amoxicillin , and clarithromycin',\n    'inflammation': 'video - assisted thoracoscopic surgery',\n    'inflammatory and autoimmune diseases': 'High - dose intravenous '\n                                            'immunoglobulin ( hdIVIg )',\n    'inflammatory skin diseases': 'topical corticosteroids',\n    'influenza breast cancer': 'vaccination',\n    'intraluminal early - stage cancer': 'photodynamic therapy , nd - yag '\n                                         'laser and electrocautery',\n    'irritable bowel syndrome': 'Chinese herbal medicine',\n    'ischemic heart disease': 'Aortocoronary bypass grafting',\n    'limited - stage small - cell carcinoma of the lung': 'combined - modality '\n                                                          'therapy',\n    'limited stage small cell lung cancer': 'vip combination chemotherapy and '\n                                            'early concurrent thoracic '\n                                            'irradiation',\n    'locally advanced non - small - cell lung cancer ( la - nsclc )': 'combined '\n                                                                      '- '\n                                                                      'modality '\n                                                                      'therapy '\n                                                                      '( cmt ; '\n                                                                      'chemotherapy '\n                                                                      'and '\n                                                                      'radiotherapy '\n                                                                      ')',\n    \"low - grade non - Hodgkin 's lymphoma\": 'interferon alpha',\n    'lung carcinoma': 'curative therapy',\n    'major pulmonary embolism': 'thrombolytic treatment',\n    'malignant melanoma': 'interferon alfa-2a',\n    'malignant pleural effusions from nsclc': 'systemic chemotherapy',\n    'malignant pleural mesothelioma': 'thoracotomy , radiotherapy , and '\n                                      'chemotherapy',\n    'malignant tumors such as non - small cell lung cancer': 'surgery',\n    'metastatic colorectal cancer': 'intravenous oxaliplatin other agents',\n    'mitomycin - resistant bladder cancer': 'photodynamic therapy in '\n                                            'combination with mitomycin C',\n    'moderately symptomatic benign prostatic hyperplasia': 'surgical resection',\n    'multiple sclerosis': 'Intravenous immunoglobulin treatment',\n    'non - functioning endocrine pancreatic tumor': 'i.m . lanreotide therapy',\n    \"non - hodgkin 's lymphoma breast cancer mesothelioma and non - small cell lung cancer\": 'oxaliplatin',\n    'non - obstructive azoospermia': 'TEFNA',\n    'non - seminomatous germ - cell tumors': 'chemotherapy',\n    'non - small - cell - lung - cancer ( nsclc )': 'cisplatin and '\n                                                    'radiotherapy',\n    'non - small cell lung cancer advanced hormone refractory prostate cancer': 'paclitaxel '\n                                                                                'and '\n                                                                                'carboplatin',\n    'nonimmune hydrops fetalis': 'Trisomy',\n    'novel hepatitis B': 'vaccine',\n    'nsclc': 'sequential chemotherapy',\n    'nsclc nsclc ( stage iiib ) sclc': 'surgical treatment chemo- and '\n                                       'radiotherapy',\n    'orthotopic tumor pre - established metastases': 'adenovirus - mediated '\n                                                     'interleukin 12 ( il-12 ) '\n                                                     'gene therapy',\n    'partial seizures': 'lamotrigine monotherapy',\n    'perioperative mortality and myocardial infarction': 'vascular surgery',\n    'persistent asthma': 'Contemporary asthma management guidelines list '\n                         'inhaled corticosteroids',\n    'pertussis': 'vaccines',\n    'phaeochromocytoma': 'Adrenalectomy',\n    'postvitrectomy diabetic vitreous hemorrhage': 'Peripheral retinal '\n                                                   'cryotherapy',\n    'preeclampsia ( proteinuric hypertension )': 'intrauterine insemination '\n                                                 'with donor sperm '\n                                                 'intrauterine insemination',\n    'primary lung cancer adenocarcinoma squamous cell carcinoma': 'resection',\n    'primary pulmonary hypertension ( PPH )': 'fenfluramines',\n    'primary tumor ( li ) bronchogenic carcinoma': 'resection',\n    'primary uveal melanoma': 'transpupillary thermotherapy',\n    'prostate cancer': 'radical prostatectomy and iodine 125 interstitial '\n                       'radiotherapy',\n    'proximal hypospadias': 'Tubularized incised plate hypospadias repair',\n    'psoriasis': 'topical therapy',\n    'pulmonary hypertension': 'Single or double lung transplantation',\n    'radiation - induced myelopathy': 'heparin and enoxaparin',\n    'regionally advanced disease': 'resection , allowing neoadjuvant therapy',\n    'renal cell carcinoma': 'Interferon treatment',\n    'renovascular hypertension': 'Percutaneous transluminal angioplasty',\n    'responsive multiple myeloma': \"` ` Tandem '' high - dose \"\n                                   'chemoradiotherapy with autologous stem - '\n                                   'cell support',\n    'restenosis': 'coronary angioplasty',\n    'retinoblastoma': 'radiotherapy',\n    'rheumatoid arthritis': 'arthrodesis',\n    's.c . tumors peritoneal tumors': 'Subcutaneous injection of irradiated '\n                                      'LLC - IL2',\n    'sclc extensive disease': 'platinum dose ( cisplatin plus carboplatin ) in '\n                              'combination chemotherapy combination therapy '\n                              'with carboplatin',\n    'severe acquired hyperammonemia cancer': 'organ transplantation and '\n                                             'chemotherapy',\n    'severe acute hepatitis accompanying cholestasis autoimmune hepatitis': 'TJ-135',\n    'severe diverticular hemorrhage': 'Urgent colonoscopy',\n    'severe hypoxemia': 'mechanical ventilation glucocorticoid pulse therapy',\n    'severe secondary peritonitis': 'Surgical management',\n    'single non - sclc melanoma ovarian carcinoma brain metastasis': 'surgical '\n                                                                     'resection',\n    'sixth nerve palsy third nerve palsy': 'lateral rectus surgery',\n    'small - cell lung cancer': 'combination chemotherapy',\n    'sore throat': 'Antibiotics',\n    'spontaneous pneumothorax': 'Thoracoscopic surgery',\n    'stage iii nsclc': 'chemotherapy administered before surgery or definitive '\n                       'irradiation',\n    'stenosis': 'thrombolytic therapy',\n    'supraclavicular node metastases in nsclc': 'chemoradiotherapy',\n    'symptomatic bronchiectasis': 'antibiotics , antibronchoobstructive '\n                                  'medication , and chest physical therapy',\n    'syringomyelia spinal adhesive arachnoiditis': 'Surgical management',\n    'testicular bleeding': 'fine needle aspiration',\n    'unstable angina or non - Q - wave myocardial infarction': 'roxithromycin',\n    'untreated small cell lung cancer ( sclc ) untreated sclc': 'chemotherapy',\n    'ventricular tachycardia': 'surgical therapy'}\n",
          "output_type": "stream"
        }
      ],
      "id": "31144af3"
    },
    {
      "cell_type": "code",
      "source": [
        "#Predict treatment withthe help of dictionary\n",
        "d=[]\n",
        "disease=''\n",
        "test_sent=[]\n",
        "treatment=''\n",
        "\n",
        "input_sent = 'Rahul suffering from cancer'\n",
        "m = spacy.load('en_core_web_sm')\n",
        "doc = m(input_sent)\n",
        "for i in doc:\n",
        "    d.append((i.text,i.pos_,'D'))\n",
        "test_sent.append(sent2features(d))\n",
        "for i,tag in enumerate(crf.predict(test_sent)[0]):\n",
        "    if tag == 'D':\n",
        "        tr = input_sent.split()[i]\n",
        "        disease += tr\n",
        "        if tr in med_dict:\n",
        "            treatment += ''+med_dict.get(tr)\n",
        "if len(treatment) == 0:\n",
        "    treatment='None'\n",
        "print('Identified Disease: ',disease)\n",
        "print('Identified Treatment: ', treatment)"
      ],
      "metadata": {
        "papermill": {
          "duration": 1.243856,
          "end_time": "2021-09-05T11:22:15.485988",
          "exception": false,
          "start_time": "2021-09-05T11:22:14.242132",
          "status": "completed"
        },
        "tags": [],
        "colab": {
          "base_uri": "https://localhost:8080/"
        },
        "id": "5c3362e3",
        "outputId": "65f83ce7-060f-465b-e339-fe8bc27d664a",
        "execution": {
          "iopub.status.busy": "2022-11-25T17:45:34.773640Z",
          "iopub.execute_input": "2022-11-25T17:45:34.773985Z",
          "iopub.status.idle": "2022-11-25T17:45:35.384478Z",
          "shell.execute_reply.started": "2022-11-25T17:45:34.773952Z",
          "shell.execute_reply": "2022-11-25T17:45:35.383210Z"
        },
        "trusted": true
      },
      "execution_count": null,
      "outputs": [
        {
          "name": "stdout",
          "text": "Identified Disease:  cancer\nIdentified Treatment:  Matrix metalloproteinase inhibitors\n",
          "output_type": "stream"
        }
      ],
      "id": "5c3362e3"
    },
    {
      "cell_type": "markdown",
      "source": [
        "## Model weight Visulisation using eli5"
      ],
      "metadata": {
        "papermill": {
          "duration": 0.058436,
          "end_time": "2021-09-05T11:22:15.603951",
          "exception": false,
          "start_time": "2021-09-05T11:22:15.545515",
          "status": "completed"
        },
        "tags": [],
        "id": "8b9e6d87"
      },
      "id": "8b9e6d87"
    },
    {
      "cell_type": "code",
      "source": [
        "!pip install eli5"
      ],
      "metadata": {
        "colab": {
          "base_uri": "https://localhost:8080/",
          "height": 641
        },
        "id": "_PEYgQvuK0FY",
        "outputId": "b649a6be-8dd0-4161-86bd-f92cfe25f5a6",
        "execution": {
          "iopub.status.busy": "2022-11-25T17:45:35.386045Z",
          "iopub.execute_input": "2022-11-25T17:45:35.386648Z",
          "iopub.status.idle": "2022-11-25T17:45:45.048490Z",
          "shell.execute_reply.started": "2022-11-25T17:45:35.386609Z",
          "shell.execute_reply": "2022-11-25T17:45:45.047226Z"
        },
        "trusted": true
      },
      "execution_count": null,
      "outputs": [
        {
          "name": "stdout",
          "text": "Requirement already satisfied: eli5 in /opt/conda/lib/python3.7/site-packages (0.13.0)\nRequirement already satisfied: jinja2>=3.0.0 in /opt/conda/lib/python3.7/site-packages (from eli5) (3.1.2)\nRequirement already satisfied: graphviz in /opt/conda/lib/python3.7/site-packages (from eli5) (0.8.4)\nRequirement already satisfied: six in /opt/conda/lib/python3.7/site-packages (from eli5) (1.15.0)\nRequirement already satisfied: numpy>=1.9.0 in /opt/conda/lib/python3.7/site-packages (from eli5) (1.21.6)\nRequirement already satisfied: attrs>17.1.0 in /opt/conda/lib/python3.7/site-packages (from eli5) (21.4.0)\nRequirement already satisfied: tabulate>=0.7.7 in /opt/conda/lib/python3.7/site-packages (from eli5) (0.9.0)\nRequirement already satisfied: scikit-learn>=0.20 in /opt/conda/lib/python3.7/site-packages (from eli5) (0.23.2)\nRequirement already satisfied: scipy in /opt/conda/lib/python3.7/site-packages (from eli5) (1.7.3)\nRequirement already satisfied: MarkupSafe>=2.0 in /opt/conda/lib/python3.7/site-packages (from jinja2>=3.0.0->eli5) (2.1.1)\nRequirement already satisfied: threadpoolctl>=2.0.0 in /opt/conda/lib/python3.7/site-packages (from scikit-learn>=0.20->eli5) (3.1.0)\nRequirement already satisfied: joblib>=0.11 in /opt/conda/lib/python3.7/site-packages (from scikit-learn>=0.20->eli5) (1.0.1)\n\u001b[33mWARNING: Running pip as the 'root' user can result in broken permissions and conflicting behaviour with the system package manager. It is recommended to use a virtual environment instead: https://pip.pypa.io/warnings/venv\u001b[0m\u001b[33m\n\u001b[0m",
          "output_type": "stream"
        }
      ],
      "id": "_PEYgQvuK0FY"
    },
    {
      "cell_type": "code",
      "source": [
        "# Import\n",
        "import eli5"
      ],
      "metadata": {
        "papermill": {
          "duration": 8.315701,
          "end_time": "2021-09-05T11:22:23.983894",
          "exception": false,
          "start_time": "2021-09-05T11:22:15.668193",
          "status": "completed"
        },
        "tags": [],
        "id": "66a1d278",
        "execution": {
          "iopub.status.busy": "2022-11-25T17:45:45.051439Z",
          "iopub.execute_input": "2022-11-25T17:45:45.051898Z",
          "iopub.status.idle": "2022-11-25T17:45:47.759891Z",
          "shell.execute_reply.started": "2022-11-25T17:45:45.051853Z",
          "shell.execute_reply": "2022-11-25T17:45:47.758816Z"
        },
        "trusted": true,
        "outputId": "d17f0b8c-a64c-4034-b605-b630bad56690"
      },
      "execution_count": null,
      "outputs": [
        {
          "output_type": "display_data",
          "data": {
            "text/plain": "<IPython.core.display.HTML object>",
            "text/html": "<style type='text/css'>\n.datatable table.frame { margin-bottom: 0; }\n.datatable table.frame thead { border-bottom: none; }\n.datatable table.frame tr.coltypes td {  color: #FFFFFF;  line-height: 6px;  padding: 0 0.5em;}\n.datatable .bool    { background: #DDDD99; }\n.datatable .object  { background: #565656; }\n.datatable .int     { background: #5D9E5D; }\n.datatable .float   { background: #4040CC; }\n.datatable .str     { background: #CC4040; }\n.datatable .time    { background: #40CC40; }\n.datatable .row_index {  background: var(--jp-border-color3);  border-right: 1px solid var(--jp-border-color0);  color: var(--jp-ui-font-color3);  font-size: 9px;}\n.datatable .frame tbody td { text-align: left; }\n.datatable .frame tr.coltypes .row_index {  background: var(--jp-border-color0);}\n.datatable th:nth-child(2) { padding-left: 12px; }\n.datatable .hellipsis {  color: var(--jp-cell-editor-border-color);}\n.datatable .vellipsis {  background: var(--jp-layout-color0);  color: var(--jp-cell-editor-border-color);}\n.datatable .na {  color: var(--jp-cell-editor-border-color);  font-size: 80%;}\n.datatable .sp {  opacity: 0.25;}\n.datatable .footer { font-size: 9px; }\n.datatable .frame_dimensions {  background: var(--jp-border-color3);  border-top: 1px solid var(--jp-border-color0);  color: var(--jp-ui-font-color3);  display: inline-block;  opacity: 0.6;  padding: 1px 10px 1px 5px;}\n</style>\n"
          },
          "metadata": {}
        }
      ],
      "id": "66a1d278"
    },
    {
      "cell_type": "code",
      "source": [
        "# Show top 30 weights of model across all labels\n",
        "eli5.show_weights(crf,top=30)"
      ],
      "metadata": {
        "papermill": {
          "duration": 0.248847,
          "end_time": "2021-09-05T11:22:24.292483",
          "exception": false,
          "start_time": "2021-09-05T11:22:24.043636",
          "status": "completed"
        },
        "tags": [],
        "colab": {
          "base_uri": "https://localhost:8080/",
          "height": 743
        },
        "id": "af1697bb",
        "outputId": "fd2b085b-8d30-433c-8ef0-53c17e1d52bb",
        "execution": {
          "iopub.status.busy": "2022-11-25T17:45:47.761184Z",
          "iopub.execute_input": "2022-11-25T17:45:47.761545Z",
          "iopub.status.idle": "2022-11-25T17:45:47.900570Z",
          "shell.execute_reply.started": "2022-11-25T17:45:47.761510Z",
          "shell.execute_reply": "2022-11-25T17:45:47.899664Z"
        },
        "trusted": true
      },
      "execution_count": null,
      "outputs": [
        {
          "execution_count": 44,
          "output_type": "execute_result",
          "data": {
            "text/plain": "<IPython.core.display.HTML object>",
            "text/html": "\n    <style>\n    table.eli5-weights tr:hover {\n        filter: brightness(85%);\n    }\n</style>\n\n\n\n    \n\n    \n\n    \n        \n\n\n<table class=\"eli5-transition-features\" style=\"margin-bottom: 0.5em;\">\n    <thead>\n        <tr>\n            <td>From \\ To</td>\n            \n                <th>D</th>\n            \n                <th>O</th>\n            \n                <th>T</th>\n            \n        </tr>\n    </thead>\n    <tbody>\n        \n            \n                <tr>\n                    <th>D</th>\n                    \n                        <td style=\"background-color: hsl(120, 100.00%, 86.53%)\" title=\"D &rArr; D\">\n                            2.834\n                        </td>\n                    \n                        <td style=\"background-color: hsl(0, 100.00%, 88.69%)\" title=\"D &rArr; O\">\n                            -2.207\n                        </td>\n                    \n                        <td style=\"background-color: hsl(0, 100.00%, 80.00%)\" title=\"D &rArr; T\">\n                            -4.987\n                        </td>\n                    \n                </tr>\n            \n                <tr>\n                    <th>O</th>\n                    \n                        <td style=\"background-color: hsl(0, 100.00%, 95.48%)\" title=\"O &rArr; D\">\n                            -0.596\n                        </td>\n                    \n                        <td style=\"background-color: hsl(120, 100.00%, 90.16%)\" title=\"O &rArr; O\">\n                            1.811\n                        </td>\n                    \n                        <td style=\"background-color: hsl(0, 100.00%, 83.54%)\" title=\"O &rArr; T\">\n                            -3.777\n                        </td>\n                    \n                </tr>\n            \n                <tr>\n                    <th>T</th>\n                    \n                        <td style=\"background-color: hsl(0, 100.00%, 100.00%)\" title=\"T &rArr; D\">\n                            0.0\n                        </td>\n                    \n                        <td style=\"background-color: hsl(0, 100.00%, 97.70%)\" title=\"T &rArr; O\">\n                            -0.226\n                        </td>\n                    \n                        <td style=\"background-color: hsl(120, 100.00%, 89.00%)\" title=\"T &rArr; T\">\n                            2.122\n                        </td>\n                    \n                </tr>\n            \n        \n    </tbody>\n</table>\n    \n\n    \n\n    \n\n    \n\n\n    \n\n    \n\n    \n\n    \n        \n\n    \n        <table class=\"eli5-weights-wrapper\" style=\"border-collapse: collapse; border: none; margin-bottom: 1.5em;\">\n            <tr>\n                \n                    <td style=\"padding: 0.5em; border: 1px solid black; text-align: center;\">\n                        <b>\n    \n        y=D\n    \n</b>\n\ntop features\n                    </td>\n                \n                    <td style=\"padding: 0.5em; border: 1px solid black; text-align: center;\">\n                        <b>\n    \n        y=O\n    \n</b>\n\ntop features\n                    </td>\n                \n                    <td style=\"padding: 0.5em; border: 1px solid black; text-align: center;\">\n                        <b>\n    \n        y=T\n    \n</b>\n\ntop features\n                    </td>\n                \n            </tr>\n            <tr>\n                \n                    \n                        <td style=\"padding: 0px; border: 1px solid black; vertical-align: top;\">\n                            \n                                \n                                    \n                                    \n    \n    <table class=\"eli5-weights\"\n           style=\"border-collapse: collapse; border: none; margin-top: 0em; table-layout: auto; width: 100%;\">\n        <thead>\n        <tr style=\"border: none;\">\n            \n                <th style=\"padding: 0 1em 0 0.5em; text-align: right; border: none;\" title=\"Feature weights. Note that weights do not account for feature value scales, so if feature values have different scales, features with highest weights might not be the most important.\">\n                    Weight<sup>?</sup>\n                </th>\n            \n            <th style=\"padding: 0 0.5em 0 0.5em; text-align: left; border: none;\">Feature</th>\n            \n        </tr>\n        </thead>\n        <tbody>\n        \n            <tr style=\"background-color: hsl(120, 100.00%, 80.00%); border: none;\">\n    <td style=\"padding: 0 1em 0 0.5em; text-align: right; border: none;\">\n        +5.239\n    </td>\n    <td style=\"padding: 0 0.5em 0 0.5em; text-align: left; border: none;\">\n        -1:word.lower():trisomy\n    </td>\n    \n</tr>\n        \n            <tr style=\"background-color: hsl(120, 100.00%, 80.30%); border: none;\">\n    <td style=\"padding: 0 1em 0 0.5em; text-align: right; border: none;\">\n        +5.128\n    </td>\n    <td style=\"padding: 0 0.5em 0 0.5em; text-align: left; border: none;\">\n        word.lower():cataract\n    </td>\n    \n</tr>\n        \n            <tr style=\"background-color: hsl(120, 100.00%, 81.13%); border: none;\">\n    <td style=\"padding: 0 1em 0 0.5em; text-align: right; border: none;\">\n        +4.823\n    </td>\n    <td style=\"padding: 0 0.5em 0 0.5em; text-align: left; border: none;\">\n        word.lower():infarctions\n    </td>\n    \n</tr>\n        \n            <tr style=\"background-color: hsl(120, 100.00%, 81.47%); border: none;\">\n    <td style=\"padding: 0 1em 0 0.5em; text-align: right; border: none;\">\n        +4.698\n    </td>\n    <td style=\"padding: 0 0.5em 0 0.5em; text-align: left; border: none;\">\n        word.lower():bleeding\n    </td>\n    \n</tr>\n        \n            <tr style=\"background-color: hsl(120, 100.00%, 82.64%); border: none;\">\n    <td style=\"padding: 0 1em 0 0.5em; text-align: right; border: none;\">\n        +4.279\n    </td>\n    <td style=\"padding: 0 0.5em 0 0.5em; text-align: left; border: none;\">\n        word.lower():diabetes\n    </td>\n    \n</tr>\n        \n            <tr style=\"background-color: hsl(120, 100.00%, 82.83%); border: none;\">\n    <td style=\"padding: 0 1em 0 0.5em; text-align: right; border: none;\">\n        +4.214\n    </td>\n    <td style=\"padding: 0 0.5em 0 0.5em; text-align: left; border: none;\">\n        word.lower():revascularizations\n    </td>\n    \n</tr>\n        \n            <tr style=\"background-color: hsl(120, 100.00%, 82.86%); border: none;\">\n    <td style=\"padding: 0 1em 0 0.5em; text-align: right; border: none;\">\n        +4.204\n    </td>\n    <td style=\"padding: 0 0.5em 0 0.5em; text-align: left; border: none;\">\n        word.lower():hemorrhage\n    </td>\n    \n</tr>\n        \n            <tr style=\"background-color: hsl(120, 100.00%, 83.17%); border: none;\">\n    <td style=\"padding: 0 1em 0 0.5em; text-align: right; border: none;\">\n        +4.095\n    </td>\n    <td style=\"padding: 0 0.5em 0 0.5em; text-align: left; border: none;\">\n        word.lower():infection\n    </td>\n    \n</tr>\n        \n            <tr style=\"background-color: hsl(120, 100.00%, 83.44%); border: none;\">\n    <td style=\"padding: 0 1em 0 0.5em; text-align: right; border: none;\">\n        +4.002\n    </td>\n    <td style=\"padding: 0 0.5em 0 0.5em; text-align: left; border: none;\">\n        word.lower():cancer\n    </td>\n    \n</tr>\n        \n            <tr style=\"background-color: hsl(120, 100.00%, 83.79%); border: none;\">\n    <td style=\"padding: 0 1em 0 0.5em; text-align: right; border: none;\">\n        +3.879\n    </td>\n    <td style=\"padding: 0 0.5em 0 0.5em; text-align: left; border: none;\">\n        word.lower():infertility\n    </td>\n    \n</tr>\n        \n            <tr style=\"background-color: hsl(120, 100.00%, 83.83%); border: none;\">\n    <td style=\"padding: 0 1em 0 0.5em; text-align: right; border: none;\">\n        +3.865\n    </td>\n    <td style=\"padding: 0 0.5em 0 0.5em; text-align: left; border: none;\">\n        word.lower():croup\n    </td>\n    \n</tr>\n        \n            <tr style=\"background-color: hsl(120, 100.00%, 84.38%); border: none;\">\n    <td style=\"padding: 0 1em 0 0.5em; text-align: right; border: none;\">\n        +3.682\n    </td>\n    <td style=\"padding: 0 0.5em 0 0.5em; text-align: left; border: none;\">\n        word.lower():pain\n    </td>\n    \n</tr>\n        \n            <tr style=\"background-color: hsl(120, 100.00%, 84.39%); border: none;\">\n    <td style=\"padding: 0 1em 0 0.5em; text-align: right; border: none;\">\n        +3.677\n    </td>\n    <td style=\"padding: 0 0.5em 0 0.5em; text-align: left; border: none;\">\n        +1:word.lower():vaccine\n    </td>\n    \n</tr>\n        \n            <tr style=\"background-color: hsl(120, 100.00%, 84.78%); border: none;\">\n    <td style=\"padding: 0 1em 0 0.5em; text-align: right; border: none;\">\n        +3.548\n    </td>\n    <td style=\"padding: 0 0.5em 0 0.5em; text-align: left; border: none;\">\n        word[-2:]:lc\n    </td>\n    \n</tr>\n        \n            <tr style=\"background-color: hsl(120, 100.00%, 84.86%); border: none;\">\n    <td style=\"padding: 0 1em 0 0.5em; text-align: right; border: none;\">\n        +3.521\n    </td>\n    <td style=\"padding: 0 0.5em 0 0.5em; text-align: left; border: none;\">\n        word.lower():cancers\n    </td>\n    \n</tr>\n        \n            <tr style=\"background-color: hsl(120, 100.00%, 85.22%); border: none;\">\n    <td style=\"padding: 0 1em 0 0.5em; text-align: right; border: none;\">\n        +3.402\n    </td>\n    <td style=\"padding: 0 0.5em 0 0.5em; text-align: left; border: none;\">\n        word.lower():tumor\n    </td>\n    \n</tr>\n        \n            <tr style=\"background-color: hsl(120, 100.00%, 85.26%); border: none;\">\n    <td style=\"padding: 0 1em 0 0.5em; text-align: right; border: none;\">\n        +3.389\n    </td>\n    <td style=\"padding: 0 0.5em 0 0.5em; text-align: left; border: none;\">\n        word.lower():incontinence\n    </td>\n    \n</tr>\n        \n            <tr style=\"background-color: hsl(120, 100.00%, 85.49%); border: none;\">\n    <td style=\"padding: 0 1em 0 0.5em; text-align: right; border: none;\">\n        +3.311\n    </td>\n    <td style=\"padding: 0 0.5em 0 0.5em; text-align: left; border: none;\">\n        word.lower():tumors\n    </td>\n    \n</tr>\n        \n            <tr style=\"background-color: hsl(120, 100.00%, 85.62%); border: none;\">\n    <td style=\"padding: 0 1em 0 0.5em; text-align: right; border: none;\">\n        +3.269\n    </td>\n    <td style=\"padding: 0 0.5em 0 0.5em; text-align: left; border: none;\">\n        word.lower():malignancy\n    </td>\n    \n</tr>\n        \n            <tr style=\"background-color: hsl(120, 100.00%, 85.91%); border: none;\">\n    <td style=\"padding: 0 1em 0 0.5em; text-align: right; border: none;\">\n        +3.176\n    </td>\n    <td style=\"padding: 0 0.5em 0 0.5em; text-align: left; border: none;\">\n        word.lower():constipation\n    </td>\n    \n</tr>\n        \n            <tr style=\"background-color: hsl(120, 100.00%, 86.31%); border: none;\">\n    <td style=\"padding: 0 1em 0 0.5em; text-align: right; border: none;\">\n        +3.050\n    </td>\n    <td style=\"padding: 0 0.5em 0 0.5em; text-align: left; border: none;\">\n        word.lower():opacification\n    </td>\n    \n</tr>\n        \n            <tr style=\"background-color: hsl(120, 100.00%, 86.48%); border: none;\">\n    <td style=\"padding: 0 1em 0 0.5em; text-align: right; border: none;\">\n        +2.994\n    </td>\n    <td style=\"padding: 0 0.5em 0 0.5em; text-align: left; border: none;\">\n        word.lower():revascularization\n    </td>\n    \n</tr>\n        \n            <tr style=\"background-color: hsl(120, 100.00%, 86.62%); border: none;\">\n    <td style=\"padding: 0 1em 0 0.5em; text-align: right; border: none;\">\n        +2.951\n    </td>\n    <td style=\"padding: 0 0.5em 0 0.5em; text-align: left; border: none;\">\n        word[-2:]:SS\n    </td>\n    \n</tr>\n        \n            <tr style=\"background-color: hsl(120, 100.00%, 86.62%); border: none;\">\n    <td style=\"padding: 0 1em 0 0.5em; text-align: right; border: none;\">\n        +2.951\n    </td>\n    <td style=\"padding: 0 0.5em 0 0.5em; text-align: left; border: none;\">\n        word.lower():tss\n    </td>\n    \n</tr>\n        \n            <tr style=\"background-color: hsl(120, 100.00%, 86.71%); border: none;\">\n    <td style=\"padding: 0 1em 0 0.5em; text-align: right; border: none;\">\n        +2.922\n    </td>\n    <td style=\"padding: 0 0.5em 0 0.5em; text-align: left; border: none;\">\n        word.lower():neoplasms\n    </td>\n    \n</tr>\n        \n            <tr style=\"background-color: hsl(120, 100.00%, 86.71%); border: none;\">\n    <td style=\"padding: 0 1em 0 0.5em; text-align: right; border: none;\">\n        +2.922\n    </td>\n    <td style=\"padding: 0 0.5em 0 0.5em; text-align: left; border: none;\">\n        word.lower():malnutrition\n    </td>\n    \n</tr>\n        \n            <tr style=\"background-color: hsl(120, 100.00%, 86.86%); border: none;\">\n    <td style=\"padding: 0 1em 0 0.5em; text-align: right; border: none;\">\n        +2.874\n    </td>\n    <td style=\"padding: 0 0.5em 0 0.5em; text-align: left; border: none;\">\n        word.lower():ulcer\n    </td>\n    \n</tr>\n        \n            <tr style=\"background-color: hsl(120, 100.00%, 86.96%); border: none;\">\n    <td style=\"padding: 0 1em 0 0.5em; text-align: right; border: none;\">\n        +2.845\n    </td>\n    <td style=\"padding: 0 0.5em 0 0.5em; text-align: left; border: none;\">\n        word.lower():depression\n    </td>\n    \n</tr>\n        \n            <tr style=\"background-color: hsl(120, 100.00%, 86.97%); border: none;\">\n    <td style=\"padding: 0 1em 0 0.5em; text-align: right; border: none;\">\n        +2.842\n    </td>\n    <td style=\"padding: 0 0.5em 0 0.5em; text-align: left; border: none;\">\n        word.lower():poisoning\n    </td>\n    \n</tr>\n        \n            <tr style=\"background-color: hsl(120, 100.00%, 87.10%); border: none;\">\n    <td style=\"padding: 0 1em 0 0.5em; text-align: right; border: none;\">\n        +2.799\n    </td>\n    <td style=\"padding: 0 0.5em 0 0.5em; text-align: left; border: none;\">\n        +1:word.lower():vaccination\n    </td>\n    \n</tr>\n        \n        \n            <tr style=\"background-color: hsl(120, 100.00%, 87.10%); border: none;\">\n                <td colspan=\"2\" style=\"padding: 0 0.5em 0 0.5em; text-align: center; border: none; white-space: nowrap;\">\n                    <i>&hellip; 592 more positive &hellip;</i>\n                </td>\n            </tr>\n        \n\n        \n            <tr style=\"background-color: hsl(0, 100.00%, 80.00%); border: none;\">\n                <td colspan=\"2\" style=\"padding: 0 0.5em 0 0.5em; text-align: center; border: none; white-space: nowrap;\">\n                    <i>&hellip; 183 more negative &hellip;</i>\n                </td>\n            </tr>\n        \n        \n\n        </tbody>\n    </table>\n\n                                \n                            \n                        </td>\n                    \n                        <td style=\"padding: 0px; border: 1px solid black; vertical-align: top;\">\n                            \n                                \n                                    \n                                    \n    \n    <table class=\"eli5-weights\"\n           style=\"border-collapse: collapse; border: none; margin-top: 0em; table-layout: auto; width: 100%;\">\n        <thead>\n        <tr style=\"border: none;\">\n            \n                <th style=\"padding: 0 1em 0 0.5em; text-align: right; border: none;\" title=\"Feature weights. Note that weights do not account for feature value scales, so if feature values have different scales, features with highest weights might not be the most important.\">\n                    Weight<sup>?</sup>\n                </th>\n            \n            <th style=\"padding: 0 0.5em 0 0.5em; text-align: left; border: none;\">Feature</th>\n            \n        </tr>\n        </thead>\n        <tbody>\n        \n            <tr style=\"background-color: hsl(120, 100.00%, 84.23%); border: none;\">\n    <td style=\"padding: 0 1em 0 0.5em; text-align: right; border: none;\">\n        +3.731\n    </td>\n    <td style=\"padding: 0 0.5em 0 0.5em; text-align: left; border: none;\">\n        word.lower():has\n    </td>\n    \n</tr>\n        \n            <tr style=\"background-color: hsl(120, 100.00%, 84.68%); border: none;\">\n    <td style=\"padding: 0 1em 0 0.5em; text-align: right; border: none;\">\n        +3.578\n    </td>\n    <td style=\"padding: 0 0.5em 0 0.5em; text-align: left; border: none;\">\n        word.lower():diagnosis\n    </td>\n    \n</tr>\n        \n            <tr style=\"background-color: hsl(120, 100.00%, 86.27%); border: none;\">\n    <td style=\"padding: 0 1em 0 0.5em; text-align: right; border: none;\">\n        +3.060\n    </td>\n    <td style=\"padding: 0 0.5em 0 0.5em; text-align: left; border: none;\">\n        word.lower():following\n    </td>\n    \n</tr>\n        \n            <tr style=\"background-color: hsl(120, 100.00%, 86.72%); border: none;\">\n    <td style=\"padding: 0 1em 0 0.5em; text-align: right; border: none;\">\n        +2.918\n    </td>\n    <td style=\"padding: 0 0.5em 0 0.5em; text-align: left; border: none;\">\n        word.lower():is\n    </td>\n    \n</tr>\n        \n            <tr style=\"background-color: hsl(120, 100.00%, 86.88%); border: none;\">\n    <td style=\"padding: 0 1em 0 0.5em; text-align: right; border: none;\">\n        +2.868\n    </td>\n    <td style=\"padding: 0 0.5em 0 0.5em; text-align: left; border: none;\">\n        word.lower():have\n    </td>\n    \n</tr>\n        \n            <tr style=\"background-color: hsl(120, 100.00%, 87.17%); border: none;\">\n    <td style=\"padding: 0 1em 0 0.5em; text-align: right; border: none;\">\n        +2.778\n    </td>\n    <td style=\"padding: 0 0.5em 0 0.5em; text-align: left; border: none;\">\n        word.lower():for\n    </td>\n    \n</tr>\n        \n            <tr style=\"background-color: hsl(120, 100.00%, 87.32%); border: none;\">\n    <td style=\"padding: 0 1em 0 0.5em; text-align: right; border: none;\">\n        +2.731\n    </td>\n    <td style=\"padding: 0 0.5em 0 0.5em; text-align: left; border: none;\">\n        postag:ADP\n    </td>\n    \n</tr>\n        \n            <tr style=\"background-color: hsl(120, 100.00%, 87.46%); border: none;\">\n    <td style=\"padding: 0 1em 0 0.5em; text-align: right; border: none;\">\n        +2.690\n    </td>\n    <td style=\"padding: 0 0.5em 0 0.5em; text-align: left; border: none;\">\n        word.lower():versus\n    </td>\n    \n</tr>\n        \n            <tr style=\"background-color: hsl(120, 100.00%, 87.60%); border: none;\">\n    <td style=\"padding: 0 1em 0 0.5em; text-align: right; border: none;\">\n        +2.647\n    </td>\n    <td style=\"padding: 0 0.5em 0 0.5em; text-align: left; border: none;\">\n        word.lower():line\n    </td>\n    \n</tr>\n        \n            <tr style=\"background-color: hsl(120, 100.00%, 88.24%); border: none;\">\n    <td style=\"padding: 0 1em 0 0.5em; text-align: right; border: none;\">\n        +2.453\n    </td>\n    <td style=\"padding: 0 0.5em 0 0.5em; text-align: left; border: none;\">\n        word.lower():compared\n    </td>\n    \n</tr>\n        \n            <tr style=\"background-color: hsl(120, 100.00%, 88.30%); border: none;\">\n    <td style=\"padding: 0 1em 0 0.5em; text-align: right; border: none;\">\n        +2.435\n    </td>\n    <td style=\"padding: 0 0.5em 0 0.5em; text-align: left; border: none;\">\n        word.lower():analysis\n    </td>\n    \n</tr>\n        \n            <tr style=\"background-color: hsl(120, 100.00%, 88.57%); border: none;\">\n    <td style=\"padding: 0 1em 0 0.5em; text-align: right; border: none;\">\n        +2.354\n    </td>\n    <td style=\"padding: 0 0.5em 0 0.5em; text-align: left; border: none;\">\n        word.lower():patients\n    </td>\n    \n</tr>\n        \n            <tr style=\"background-color: hsl(120, 100.00%, 88.90%); border: none;\">\n    <td style=\"padding: 0 1em 0 0.5em; text-align: right; border: none;\">\n        +2.259\n    </td>\n    <td style=\"padding: 0 0.5em 0 0.5em; text-align: left; border: none;\">\n        word.lower():plasma\n    </td>\n    \n</tr>\n        \n            <tr style=\"background-color: hsl(120, 100.00%, 89.08%); border: none;\">\n    <td style=\"padding: 0 1em 0 0.5em; text-align: right; border: none;\">\n        +2.208\n    </td>\n    <td style=\"padding: 0 0.5em 0 0.5em; text-align: left; border: none;\">\n        -1:word.lower():vaccine\n    </td>\n    \n</tr>\n        \n            <tr style=\"background-color: hsl(120, 100.00%, 89.29%); border: none;\">\n    <td style=\"padding: 0 1em 0 0.5em; text-align: right; border: none;\">\n        +2.148\n    </td>\n    <td style=\"padding: 0 0.5em 0 0.5em; text-align: left; border: none;\">\n        word[-2:]:ut\n    </td>\n    \n</tr>\n        \n            <tr style=\"background-color: hsl(120, 100.00%, 89.29%); border: none;\">\n    <td style=\"padding: 0 1em 0 0.5em; text-align: right; border: none;\">\n        +2.147\n    </td>\n    <td style=\"padding: 0 0.5em 0 0.5em; text-align: left; border: none;\">\n        word.lower():had\n    </td>\n    \n</tr>\n        \n            <tr style=\"background-color: hsl(120, 100.00%, 89.44%); border: none;\">\n    <td style=\"padding: 0 1em 0 0.5em; text-align: right; border: none;\">\n        +2.103\n    </td>\n    <td style=\"padding: 0 0.5em 0 0.5em; text-align: left; border: none;\">\n        word.lower():treated\n    </td>\n    \n</tr>\n        \n            <tr style=\"background-color: hsl(120, 100.00%, 89.47%); border: none;\">\n    <td style=\"padding: 0 1em 0 0.5em; text-align: right; border: none;\">\n        +2.096\n    </td>\n    <td style=\"padding: 0 0.5em 0 0.5em; text-align: left; border: none;\">\n        word.lower():patient\n    </td>\n    \n</tr>\n        \n            <tr style=\"background-color: hsl(120, 100.00%, 89.50%); border: none;\">\n    <td style=\"padding: 0 1em 0 0.5em; text-align: right; border: none;\">\n        +2.087\n    </td>\n    <td style=\"padding: 0 0.5em 0 0.5em; text-align: left; border: none;\">\n        word.lower():underwent\n    </td>\n    \n</tr>\n        \n            <tr style=\"background-color: hsl(120, 100.00%, 89.64%); border: none;\">\n    <td style=\"padding: 0 1em 0 0.5em; text-align: right; border: none;\">\n        +2.046\n    </td>\n    <td style=\"padding: 0 0.5em 0 0.5em; text-align: left; border: none;\">\n        postag:PRON\n    </td>\n    \n</tr>\n        \n            <tr style=\"background-color: hsl(120, 100.00%, 89.73%); border: none;\">\n    <td style=\"padding: 0 1em 0 0.5em; text-align: right; border: none;\">\n        +2.023\n    </td>\n    <td style=\"padding: 0 0.5em 0 0.5em; text-align: left; border: none;\">\n        word.lower():group\n    </td>\n    \n</tr>\n        \n            <tr style=\"background-color: hsl(120, 100.00%, 89.79%); border: none;\">\n    <td style=\"padding: 0 1em 0 0.5em; text-align: right; border: none;\">\n        +2.006\n    </td>\n    <td style=\"padding: 0 0.5em 0 0.5em; text-align: left; border: none;\">\n        word.lower():in\n    </td>\n    \n</tr>\n        \n        \n            <tr style=\"background-color: hsl(120, 100.00%, 89.79%); border: none;\">\n                <td colspan=\"2\" style=\"padding: 0 0.5em 0 0.5em; text-align: center; border: none; white-space: nowrap;\">\n                    <i>&hellip; 636 more positive &hellip;</i>\n                </td>\n            </tr>\n        \n\n        \n            <tr style=\"background-color: hsl(0, 100.00%, 89.63%); border: none;\">\n                <td colspan=\"2\" style=\"padding: 0 0.5em 0 0.5em; text-align: center; border: none; white-space: nowrap;\">\n                    <i>&hellip; 494 more negative &hellip;</i>\n                </td>\n            </tr>\n        \n        \n            <tr style=\"background-color: hsl(0, 100.00%, 89.63%); border: none;\">\n    <td style=\"padding: 0 1em 0 0.5em; text-align: right; border: none;\">\n        -2.049\n    </td>\n    <td style=\"padding: 0 0.5em 0 0.5em; text-align: left; border: none;\">\n        +1:word.lower():prior\n    </td>\n    \n</tr>\n        \n            <tr style=\"background-color: hsl(0, 100.00%, 89.56%); border: none;\">\n    <td style=\"padding: 0 1em 0 0.5em; text-align: right; border: none;\">\n        -2.069\n    </td>\n    <td style=\"padding: 0 0.5em 0 0.5em; text-align: left; border: none;\">\n        -1:word.lower():catheter\n    </td>\n    \n</tr>\n        \n            <tr style=\"background-color: hsl(0, 100.00%, 89.09%); border: none;\">\n    <td style=\"padding: 0 1em 0 0.5em; text-align: right; border: none;\">\n        -2.205\n    </td>\n    <td style=\"padding: 0 0.5em 0 0.5em; text-align: left; border: none;\">\n        word.lower():cancers\n    </td>\n    \n</tr>\n        \n            <tr style=\"background-color: hsl(0, 100.00%, 88.82%); border: none;\">\n    <td style=\"padding: 0 1em 0 0.5em; text-align: right; border: none;\">\n        -2.283\n    </td>\n    <td style=\"padding: 0 0.5em 0 0.5em; text-align: left; border: none;\">\n        word[-2:]:i\n    </td>\n    \n</tr>\n        \n            <tr style=\"background-color: hsl(0, 100.00%, 88.42%); border: none;\">\n    <td style=\"padding: 0 1em 0 0.5em; text-align: right; border: none;\">\n        -2.400\n    </td>\n    <td style=\"padding: 0 0.5em 0 0.5em; text-align: left; border: none;\">\n        +1:word.lower():complex\n    </td>\n    \n</tr>\n        \n            <tr style=\"background-color: hsl(0, 100.00%, 87.50%); border: none;\">\n    <td style=\"padding: 0 1em 0 0.5em; text-align: right; border: none;\">\n        -2.677\n    </td>\n    <td style=\"padding: 0 0.5em 0 0.5em; text-align: left; border: none;\">\n        -1:word.lower():whom\n    </td>\n    \n</tr>\n        \n            <tr style=\"background-color: hsl(0, 100.00%, 87.36%); border: none;\">\n    <td style=\"padding: 0 1em 0 0.5em; text-align: right; border: none;\">\n        -2.720\n    </td>\n    <td style=\"padding: 0 0.5em 0 0.5em; text-align: left; border: none;\">\n        word.lower():abscess\n    </td>\n    \n</tr>\n        \n            <tr style=\"background-color: hsl(0, 100.00%, 86.93%); border: none;\">\n    <td style=\"padding: 0 1em 0 0.5em; text-align: right; border: none;\">\n        -2.853\n    </td>\n    <td style=\"padding: 0 0.5em 0 0.5em; text-align: left; border: none;\">\n        word.lower():lung\n    </td>\n    \n</tr>\n        \n\n        </tbody>\n    </table>\n\n                                \n                            \n                        </td>\n                    \n                        <td style=\"padding: 0px; border: 1px solid black; vertical-align: top;\">\n                            \n                                \n                                    \n                                    \n    \n    <table class=\"eli5-weights\"\n           style=\"border-collapse: collapse; border: none; margin-top: 0em; table-layout: auto; width: 100%;\">\n        <thead>\n        <tr style=\"border: none;\">\n            \n                <th style=\"padding: 0 1em 0 0.5em; text-align: right; border: none;\" title=\"Feature weights. Note that weights do not account for feature value scales, so if feature values have different scales, features with highest weights might not be the most important.\">\n                    Weight<sup>?</sup>\n                </th>\n            \n            <th style=\"padding: 0 0.5em 0 0.5em; text-align: left; border: none;\">Feature</th>\n            \n        </tr>\n        </thead>\n        <tbody>\n        \n            <tr style=\"background-color: hsl(120, 100.00%, 80.24%); border: none;\">\n    <td style=\"padding: 0 1em 0 0.5em; text-align: right; border: none;\">\n        +5.151\n    </td>\n    <td style=\"padding: 0 0.5em 0 0.5em; text-align: left; border: none;\">\n        +1:word.lower():yag\n    </td>\n    \n</tr>\n        \n            <tr style=\"background-color: hsl(120, 100.00%, 81.14%); border: none;\">\n    <td style=\"padding: 0 1em 0 0.5em; text-align: right; border: none;\">\n        +4.818\n    </td>\n    <td style=\"padding: 0 0.5em 0 0.5em; text-align: left; border: none;\">\n        word.lower():vaccination\n    </td>\n    \n</tr>\n        \n            <tr style=\"background-color: hsl(120, 100.00%, 82.55%); border: none;\">\n    <td style=\"padding: 0 1em 0 0.5em; text-align: right; border: none;\">\n        +4.310\n    </td>\n    <td style=\"padding: 0 0.5em 0 0.5em; text-align: left; border: none;\">\n        word.lower():resection\n    </td>\n    \n</tr>\n        \n            <tr style=\"background-color: hsl(120, 100.00%, 83.18%); border: none;\">\n    <td style=\"padding: 0 1em 0 0.5em; text-align: right; border: none;\">\n        +4.092\n    </td>\n    <td style=\"padding: 0 0.5em 0 0.5em; text-align: left; border: none;\">\n        word.lower():alteplase\n    </td>\n    \n</tr>\n        \n            <tr style=\"background-color: hsl(120, 100.00%, 84.44%); border: none;\">\n    <td style=\"padding: 0 1em 0 0.5em; text-align: right; border: none;\">\n        +3.661\n    </td>\n    <td style=\"padding: 0 0.5em 0 0.5em; text-align: left; border: none;\">\n        word.lower():surgery\n    </td>\n    \n</tr>\n        \n            <tr style=\"background-color: hsl(120, 100.00%, 84.58%); border: none;\">\n    <td style=\"padding: 0 1em 0 0.5em; text-align: right; border: none;\">\n        +3.614\n    </td>\n    <td style=\"padding: 0 0.5em 0 0.5em; text-align: left; border: none;\">\n        word.lower():anticoagulants\n    </td>\n    \n</tr>\n        \n            <tr style=\"background-color: hsl(120, 100.00%, 85.09%); border: none;\">\n    <td style=\"padding: 0 1em 0 0.5em; text-align: right; border: none;\">\n        +3.443\n    </td>\n    <td style=\"padding: 0 0.5em 0 0.5em; text-align: left; border: none;\">\n        word.lower():docetaxel\n    </td>\n    \n</tr>\n        \n            <tr style=\"background-color: hsl(120, 100.00%, 85.34%); border: none;\">\n    <td style=\"padding: 0 1em 0 0.5em; text-align: right; border: none;\">\n        +3.363\n    </td>\n    <td style=\"padding: 0 0.5em 0 0.5em; text-align: left; border: none;\">\n        word.lower():antibiotics\n    </td>\n    \n</tr>\n        \n            <tr style=\"background-color: hsl(120, 100.00%, 85.36%); border: none;\">\n    <td style=\"padding: 0 1em 0 0.5em; text-align: right; border: none;\">\n        +3.355\n    </td>\n    <td style=\"padding: 0 0.5em 0 0.5em; text-align: left; border: none;\">\n        word.lower():arthrodesis\n    </td>\n    \n</tr>\n        \n            <tr style=\"background-color: hsl(120, 100.00%, 85.43%); border: none;\">\n    <td style=\"padding: 0 1em 0 0.5em; text-align: right; border: none;\">\n        +3.332\n    </td>\n    <td style=\"padding: 0 0.5em 0 0.5em; text-align: left; border: none;\">\n        word.lower():acupuncture\n    </td>\n    \n</tr>\n        \n            <tr style=\"background-color: hsl(120, 100.00%, 85.55%); border: none;\">\n    <td style=\"padding: 0 1em 0 0.5em; text-align: right; border: none;\">\n        +3.293\n    </td>\n    <td style=\"padding: 0 0.5em 0 0.5em; text-align: left; border: none;\">\n        +1:word.lower():insemination\n    </td>\n    \n</tr>\n        \n            <tr style=\"background-color: hsl(120, 100.00%, 85.61%); border: none;\">\n    <td style=\"padding: 0 1em 0 0.5em; text-align: right; border: none;\">\n        +3.274\n    </td>\n    <td style=\"padding: 0 0.5em 0 0.5em; text-align: left; border: none;\">\n        word.lower():methylphenidate\n    </td>\n    \n</tr>\n        \n            <tr style=\"background-color: hsl(120, 100.00%, 85.82%); border: none;\">\n    <td style=\"padding: 0 1em 0 0.5em; text-align: right; border: none;\">\n        +3.205\n    </td>\n    <td style=\"padding: 0 0.5em 0 0.5em; text-align: left; border: none;\">\n        word.lower():slings\n    </td>\n    \n</tr>\n        \n            <tr style=\"background-color: hsl(120, 100.00%, 86.11%); border: none;\">\n    <td style=\"padding: 0 1em 0 0.5em; text-align: right; border: none;\">\n        +3.112\n    </td>\n    <td style=\"padding: 0 0.5em 0 0.5em; text-align: left; border: none;\">\n        word.lower():cisapride\n    </td>\n    \n</tr>\n        \n            <tr style=\"background-color: hsl(120, 100.00%, 86.28%); border: none;\">\n    <td style=\"padding: 0 1em 0 0.5em; text-align: right; border: none;\">\n        +3.057\n    </td>\n    <td style=\"padding: 0 0.5em 0 0.5em; text-align: left; border: none;\">\n        -1:word.lower():antagonist\n    </td>\n    \n</tr>\n        \n            <tr style=\"background-color: hsl(120, 100.00%, 86.49%); border: none;\">\n    <td style=\"padding: 0 1em 0 0.5em; text-align: right; border: none;\">\n        +2.990\n    </td>\n    <td style=\"padding: 0 0.5em 0 0.5em; text-align: left; border: none;\">\n        -1:word.lower():nutrition\n    </td>\n    \n</tr>\n        \n            <tr style=\"background-color: hsl(120, 100.00%, 86.76%); border: none;\">\n    <td style=\"padding: 0 1em 0 0.5em; text-align: right; border: none;\">\n        +2.905\n    </td>\n    <td style=\"padding: 0 0.5em 0 0.5em; text-align: left; border: none;\">\n        word.lower():fenfluramines\n    </td>\n    \n</tr>\n        \n            <tr style=\"background-color: hsl(120, 100.00%, 86.77%); border: none;\">\n    <td style=\"padding: 0 1em 0 0.5em; text-align: right; border: none;\">\n        +2.905\n    </td>\n    <td style=\"padding: 0 0.5em 0 0.5em; text-align: left; border: none;\">\n        word.lower():paclitaxel\n    </td>\n    \n</tr>\n        \n            <tr style=\"background-color: hsl(120, 100.00%, 86.77%); border: none;\">\n    <td style=\"padding: 0 1em 0 0.5em; text-align: right; border: none;\">\n        +2.902\n    </td>\n    <td style=\"padding: 0 0.5em 0 0.5em; text-align: left; border: none;\">\n        word.lower():irinotecan\n    </td>\n    \n</tr>\n        \n            <tr style=\"background-color: hsl(120, 100.00%, 86.80%); border: none;\">\n    <td style=\"padding: 0 1em 0 0.5em; text-align: right; border: none;\">\n        +2.893\n    </td>\n    <td style=\"padding: 0 0.5em 0 0.5em; text-align: left; border: none;\">\n        word.lower():dialysis\n    </td>\n    \n</tr>\n        \n            <tr style=\"background-color: hsl(120, 100.00%, 86.85%); border: none;\">\n    <td style=\"padding: 0 1em 0 0.5em; text-align: right; border: none;\">\n        +2.877\n    </td>\n    <td style=\"padding: 0 0.5em 0 0.5em; text-align: left; border: none;\">\n        word.lower():drainage\n    </td>\n    \n</tr>\n        \n            <tr style=\"background-color: hsl(120, 100.00%, 86.88%); border: none;\">\n    <td style=\"padding: 0 1em 0 0.5em; text-align: right; border: none;\">\n        +2.869\n    </td>\n    <td style=\"padding: 0 0.5em 0 0.5em; text-align: left; border: none;\">\n        +1:word.lower():drainage\n    </td>\n    \n</tr>\n        \n            <tr style=\"background-color: hsl(120, 100.00%, 86.88%); border: none;\">\n    <td style=\"padding: 0 1em 0 0.5em; text-align: right; border: none;\">\n        +2.869\n    </td>\n    <td style=\"padding: 0 0.5em 0 0.5em; text-align: left; border: none;\">\n        word.lower():thalidomide\n    </td>\n    \n</tr>\n        \n            <tr style=\"background-color: hsl(120, 100.00%, 87.16%); border: none;\">\n    <td style=\"padding: 0 1em 0 0.5em; text-align: right; border: none;\">\n        +2.782\n    </td>\n    <td style=\"padding: 0 0.5em 0 0.5em; text-align: left; border: none;\">\n        -1:word.lower():versus\n    </td>\n    \n</tr>\n        \n            <tr style=\"background-color: hsl(120, 100.00%, 87.26%); border: none;\">\n    <td style=\"padding: 0 1em 0 0.5em; text-align: right; border: none;\">\n        +2.751\n    </td>\n    <td style=\"padding: 0 0.5em 0 0.5em; text-align: left; border: none;\">\n        word.lower():capture\n    </td>\n    \n</tr>\n        \n            <tr style=\"background-color: hsl(120, 100.00%, 87.28%); border: none;\">\n    <td style=\"padding: 0 1em 0 0.5em; text-align: right; border: none;\">\n        +2.744\n    </td>\n    <td style=\"padding: 0 0.5em 0 0.5em; text-align: left; border: none;\">\n        word.lower():ropinirole\n    </td>\n    \n</tr>\n        \n            <tr style=\"background-color: hsl(120, 100.00%, 87.39%); border: none;\">\n    <td style=\"padding: 0 1em 0 0.5em; text-align: right; border: none;\">\n        +2.710\n    </td>\n    <td style=\"padding: 0 0.5em 0 0.5em; text-align: left; border: none;\">\n        +1:word.lower():herbal\n    </td>\n    \n</tr>\n        \n            <tr style=\"background-color: hsl(120, 100.00%, 87.61%); border: none;\">\n    <td style=\"padding: 0 1em 0 0.5em; text-align: right; border: none;\">\n        +2.644\n    </td>\n    <td style=\"padding: 0 0.5em 0 0.5em; text-align: left; border: none;\">\n        word.lower():vaccine\n    </td>\n    \n</tr>\n        \n            <tr style=\"background-color: hsl(120, 100.00%, 87.68%); border: none;\">\n    <td style=\"padding: 0 1em 0 0.5em; text-align: right; border: none;\">\n        +2.622\n    </td>\n    <td style=\"padding: 0 0.5em 0 0.5em; text-align: left; border: none;\">\n        +1:word.lower():suspensions\n    </td>\n    \n</tr>\n        \n            <tr style=\"background-color: hsl(120, 100.00%, 87.68%); border: none;\">\n    <td style=\"padding: 0 1em 0 0.5em; text-align: right; border: none;\">\n        +2.622\n    </td>\n    <td style=\"padding: 0 0.5em 0 0.5em; text-align: left; border: none;\">\n        word.lower():carinal\n    </td>\n    \n</tr>\n        \n        \n            <tr style=\"background-color: hsl(120, 100.00%, 87.68%); border: none;\">\n                <td colspan=\"2\" style=\"padding: 0 0.5em 0 0.5em; text-align: center; border: none; white-space: nowrap;\">\n                    <i>&hellip; 595 more positive &hellip;</i>\n                </td>\n            </tr>\n        \n\n        \n            <tr style=\"background-color: hsl(0, 100.00%, 80.00%); border: none;\">\n                <td colspan=\"2\" style=\"padding: 0 0.5em 0 0.5em; text-align: center; border: none; white-space: nowrap;\">\n                    <i>&hellip; 169 more negative &hellip;</i>\n                </td>\n            </tr>\n        \n        \n\n        </tbody>\n    </table>\n\n                                \n                            \n                        </td>\n                    \n                \n            </tr>\n        </table>\n    \n\n    \n        \n\n\n    \n        \n\n\n    \n        \n\n\n    \n\n\n    \n\n    \n\n    \n\n\n    \n\n    \n\n    \n\n    \n\n    \n\n    \n\n\n    \n\n    \n\n    \n\n    \n\n    \n\n    \n\n\n\n"
          },
          "metadata": {}
        }
      ],
      "id": "af1697bb"
    },
    {
      "cell_type": "code",
      "source": [],
      "metadata": {
        "id": "xU6FRsfvK3jT"
      },
      "execution_count": null,
      "outputs": [],
      "id": "xU6FRsfvK3jT"
    }
  ]
}